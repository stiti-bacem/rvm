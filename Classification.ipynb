{
  "nbformat": 4,
  "nbformat_minor": 0,
  "metadata": {
    "accelerator": "GPU",
    "colab": {
      "name": "RVM_modeling.ipynb",
      "provenance": [],
      "collapsed_sections": []
    },
    "kernelspec": {
      "display_name": "Python 3",
      "name": "python3"
    },
    "language_info": {
      "name": "python"
    }
  },
  "cells": [
    {
      "cell_type": "code",
      "metadata": {
        "colab": {
          "base_uri": "https://localhost:8080/"
        },
        "id": "67aDmO68-QTp",
        "outputId": "e68928b5-1e06-4113-e614-bb309aca5009"
      },
      "source": [
        "from google.colab import drive\n",
        "drive.mount('/content/drive')"
      ],
      "execution_count": null,
      "outputs": [
        {
          "output_type": "stream",
          "name": "stdout",
          "text": [
            "Mounted at /content/drive\n"
          ]
        }
      ]
    },
    {
      "cell_type": "code",
      "metadata": {
        "id": "mMBN0nbPG6d3"
      },
      "source": [
        ""
      ],
      "execution_count": null,
      "outputs": []
    },
    {
      "cell_type": "markdown",
      "metadata": {
        "id": "eSaUtJbHtbyv"
      },
      "source": [
        "## **Data preprocessing**"
      ]
    },
    {
      "cell_type": "code",
      "metadata": {
        "id": "npk6a8vciXJv"
      },
      "source": [
        "train_dir='/content/drive/MyDrive/images/train'\n",
        "test_dir='/content/drive/MyDrive/images/test'"
      ],
      "execution_count": null,
      "outputs": []
    },
    {
      "cell_type": "code",
      "metadata": {
        "id": "72uFa45nxD13"
      },
      "source": [
        ""
      ],
      "execution_count": null,
      "outputs": []
    },
    {
      "cell_type": "code",
      "metadata": {
        "id": "EhuP8NAI5swk"
      },
      "source": [
        "import numpy as np \n",
        "import matplotlib.pyplot as plt\n",
        "import glob\n",
        "import cv2\n",
        "\n",
        "from keras.models import Model, Sequential\n",
        "from keras.layers import Dense, Flatten, Conv2D, MaxPooling2D\n",
        "import os\n",
        "import seaborn as sns\n",
        "from keras.applications.vgg16 import VGG16\n",
        "from datetime import datetime\n",
        "from time import strftime"
      ],
      "execution_count": null,
      "outputs": []
    },
    {
      "cell_type": "code",
      "metadata": {
        "colab": {
          "base_uri": "https://localhost:8080/"
        },
        "id": "mHbuRC6KGlif",
        "outputId": "b7a14341-8725-4b82-cb1c-a0372507cdb8"
      },
      "source": [
        "print(os.listdir(\"/content/drive/MyDrive/images/train\"))\n",
        "\n",
        "SIZE = 256  #Resize images"
      ],
      "execution_count": null,
      "outputs": [
        {
          "output_type": "stream",
          "name": "stdout",
          "text": [
            "['Glass', 'Can', 'plastique0.5L', 'plastique1.5L', 'plastique1L', 'plastique0.3L', 'pltasique2L']\n"
          ]
        }
      ]
    },
    {
      "cell_type": "code",
      "metadata": {
        "colab": {
          "base_uri": "https://localhost:8080/"
        },
        "id": "q9uk84KCGo6c",
        "outputId": "fe3ac2fb-3400-43ab-b8bc-f46c46d4be30"
      },
      "source": [
        "print(os.listdir(\"/content/drive/MyDrive/images/test\"))"
      ],
      "execution_count": null,
      "outputs": [
        {
          "output_type": "stream",
          "name": "stdout",
          "text": [
            "['Glass', 'Can', 'plastique1L', 'plastique1.5L', 'plastique2L', 'plastique0.3L', 'plastique0.5L']\n"
          ]
        }
      ]
    },
    {
      "cell_type": "code",
      "metadata": {
        "id": "CL9vVmUCG4uX"
      },
      "source": [
        "#Capture training data and labels into respective lists\n",
        "train_images = []\n",
        "train_labels = [] "
      ],
      "execution_count": null,
      "outputs": []
    },
    {
      "cell_type": "code",
      "metadata": {
        "colab": {
          "base_uri": "https://localhost:8080/"
        },
        "id": "5PJJ5tzTG-dR",
        "outputId": "03fff9c7-0934-4373-c010-34c3cc5bbed5"
      },
      "source": [
        "for directory_path in glob.glob(\"/content/drive/MyDrive/images/train/*\"):\n",
        "    label = directory_path.split(\"/\")[-1]\n",
        "    print(label)\n",
        "    for img_path in glob.glob(os.path.join(directory_path, \"*.jpeg\")):\n",
        "        print(img_path)\n",
        "        img = cv2.imread(img_path, cv2.IMREAD_COLOR)       \n",
        "        img = cv2.resize(img, (SIZE, SIZE))\n",
        "        img = cv2.cvtColor(img, cv2.COLOR_RGB2BGR)\n",
        "        train_images.append(img)\n",
        "        train_labels.append(label)"
      ],
      "execution_count": null,
      "outputs": [
        {
          "output_type": "stream",
          "name": "stdout",
          "text": [
            "Glass\n",
            "/content/drive/MyDrive/images/train/Glass/02_03_2020_14_25_52.jpeg\n",
            "/content/drive/MyDrive/images/train/Glass/02_03_2020_14_25_56.jpeg\n",
            "/content/drive/MyDrive/images/train/Glass/02_03_2020_14_25_59.jpeg\n",
            "/content/drive/MyDrive/images/train/Glass/02_03_2020_14_26_03.jpeg\n",
            "/content/drive/MyDrive/images/train/Glass/02_03_2020_14_26_06.jpeg\n",
            "/content/drive/MyDrive/images/train/Glass/02_03_2020_14_26_13.jpeg\n",
            "/content/drive/MyDrive/images/train/Glass/02_03_2020_14_26_17.jpeg\n",
            "/content/drive/MyDrive/images/train/Glass/04_04_2020_17_07_17.jpeg\n",
            "/content/drive/MyDrive/images/train/Glass/04_04_2020_17_07_28.jpeg\n",
            "/content/drive/MyDrive/images/train/Glass/04_04_2020_17_07_35.jpeg\n",
            "/content/drive/MyDrive/images/train/Glass/04_04_2020_17_07_49.jpeg\n",
            "/content/drive/MyDrive/images/train/Glass/04_04_2020_17_07_57.jpeg\n",
            "/content/drive/MyDrive/images/train/Glass/04_04_2020_17_08_03.jpeg\n",
            "/content/drive/MyDrive/images/train/Glass/04_04_2020_17_08_08.jpeg\n",
            "/content/drive/MyDrive/images/train/Glass/04_04_2020_17_08_19.jpeg\n",
            "/content/drive/MyDrive/images/train/Glass/04_04_2020_17_08_47.jpeg\n",
            "/content/drive/MyDrive/images/train/Glass/04_04_2020_17_08_25.jpeg\n",
            "/content/drive/MyDrive/images/train/Glass/04_04_2020_17_08_30.jpeg\n",
            "/content/drive/MyDrive/images/train/Glass/04_04_2020_17_09_21.jpeg\n",
            "/content/drive/MyDrive/images/train/Glass/04_04_2020_17_08_36.jpeg\n",
            "/content/drive/MyDrive/images/train/Glass/04_04_2020_17_08_41.jpeg\n",
            "/content/drive/MyDrive/images/train/Glass/04_04_2020_17_09_32.jpeg\n",
            "/content/drive/MyDrive/images/train/Glass/04_04_2020_17_09_37.jpeg\n",
            "/content/drive/MyDrive/images/train/Glass/04_04_2020_17_09_43.jpeg\n",
            "/content/drive/MyDrive/images/train/Glass/04_04_2020_17_10_17.jpeg\n",
            "/content/drive/MyDrive/images/train/Glass/04_04_2020_17_09_54.jpeg\n",
            "/content/drive/MyDrive/images/train/Glass/04_04_2020_17_10_22.jpeg\n",
            "/content/drive/MyDrive/images/train/Glass/04_04_2020_17_09_59.jpeg\n",
            "/content/drive/MyDrive/images/train/Glass/04_04_2020_17_10_28.jpeg\n",
            "/content/drive/MyDrive/images/train/Glass/04_04_2020_17_10_05.jpeg\n",
            "/content/drive/MyDrive/images/train/Glass/04_04_2020_17_10_33.jpeg\n",
            "/content/drive/MyDrive/images/train/Glass/04_04_2020_17_10_39.jpeg\n",
            "/content/drive/MyDrive/images/train/Glass/04_04_2020_17_10_44.jpeg\n",
            "/content/drive/MyDrive/images/train/Glass/04_04_2020_17_10_49.jpeg\n",
            "/content/drive/MyDrive/images/train/Glass/04_04_2020_17_10_55.jpeg\n",
            "/content/drive/MyDrive/images/train/Glass/04_04_2020_17_11_00.jpeg\n",
            "Can\n",
            "/content/drive/MyDrive/images/train/Can/02_03_2020_14_33_19.jpeg\n",
            "/content/drive/MyDrive/images/train/Can/02_03_2020_14_33_22.jpeg\n",
            "/content/drive/MyDrive/images/train/Can/02_03_2020_14_33_26.jpeg\n",
            "/content/drive/MyDrive/images/train/Can/02_03_2020_14_33_29.jpeg\n",
            "/content/drive/MyDrive/images/train/Can/02_03_2020_14_33_33.jpeg\n",
            "/content/drive/MyDrive/images/train/Can/02_03_2020_14_33_36.jpeg\n",
            "/content/drive/MyDrive/images/train/Can/02_03_2020_14_33_40.jpeg\n",
            "/content/drive/MyDrive/images/train/Can/02_03_2020_14_33_43.jpeg\n",
            "/content/drive/MyDrive/images/train/Can/02_03_2020_14_33_47.jpeg\n",
            "/content/drive/MyDrive/images/train/Can/02_03_2020_14_35_30.jpeg\n",
            "/content/drive/MyDrive/images/train/Can/02_03_2020_14_35_34.jpeg\n",
            "/content/drive/MyDrive/images/train/Can/02_03_2020_14_35_37.jpeg\n",
            "/content/drive/MyDrive/images/train/Can/02_03_2020_14_35_41.jpeg\n",
            "/content/drive/MyDrive/images/train/Can/02_03_2020_14_35_44.jpeg\n",
            "/content/drive/MyDrive/images/train/Can/02_03_2020_14_35_48.jpeg\n",
            "/content/drive/MyDrive/images/train/Can/02_03_2020_14_35_51.jpeg\n",
            "/content/drive/MyDrive/images/train/Can/02_03_2020_14_35_55.jpeg\n",
            "/content/drive/MyDrive/images/train/Can/02_03_2020_14_35_58.jpeg\n",
            "/content/drive/MyDrive/images/train/Can/02_03_2020_14_36_10.jpeg\n",
            "/content/drive/MyDrive/images/train/Can/02_03_2020_14_36_13.jpeg\n",
            "/content/drive/MyDrive/images/train/Can/02_03_2020_14_36_17.jpeg\n",
            "/content/drive/MyDrive/images/train/Can/02_03_2020_14_36_20.jpeg\n",
            "/content/drive/MyDrive/images/train/Can/02_03_2020_14_36_24.jpeg\n",
            "/content/drive/MyDrive/images/train/Can/02_03_2020_14_36_27.jpeg\n",
            "/content/drive/MyDrive/images/train/Can/02_03_2020_14_36_31.jpeg\n",
            "/content/drive/MyDrive/images/train/Can/02_03_2020_14_36_34.jpeg\n",
            "/content/drive/MyDrive/images/train/Can/02_03_2020_14_36_37.jpeg\n",
            "/content/drive/MyDrive/images/train/Can/02_03_2020_14_37_01.jpeg\n",
            "/content/drive/MyDrive/images/train/Can/02_03_2020_14_37_05.jpeg\n",
            "/content/drive/MyDrive/images/train/Can/02_03_2020_14_37_08.jpeg\n",
            "/content/drive/MyDrive/images/train/Can/02_03_2020_14_37_11.jpeg\n",
            "/content/drive/MyDrive/images/train/Can/02_03_2020_14_37_15.jpeg\n",
            "/content/drive/MyDrive/images/train/Can/02_03_2020_14_37_18.jpeg\n",
            "/content/drive/MyDrive/images/train/Can/02_03_2020_14_37_22.jpeg\n",
            "/content/drive/MyDrive/images/train/Can/02_03_2020_14_37_25.jpeg\n",
            "/content/drive/MyDrive/images/train/Can/02_03_2020_14_37_29.jpeg\n",
            "/content/drive/MyDrive/images/train/Can/25_03_2020_00_47_34.jpeg\n",
            "/content/drive/MyDrive/images/train/Can/25_03_2020_00_47_38.jpeg\n",
            "/content/drive/MyDrive/images/train/Can/25_03_2020_00_47_41.jpeg\n",
            "/content/drive/MyDrive/images/train/Can/25_03_2020_00_47_45.jpeg\n",
            "/content/drive/MyDrive/images/train/Can/25_03_2020_00_47_48.jpeg\n",
            "/content/drive/MyDrive/images/train/Can/25_03_2020_00_47_52.jpeg\n",
            "/content/drive/MyDrive/images/train/Can/25_03_2020_00_47_55.jpeg\n",
            "/content/drive/MyDrive/images/train/Can/25_03_2020_00_47_59.jpeg\n",
            "/content/drive/MyDrive/images/train/Can/25_03_2020_00_48_07.jpeg\n",
            "/content/drive/MyDrive/images/train/Can/25_03_2020_00_48_10.jpeg\n",
            "/content/drive/MyDrive/images/train/Can/25_03_2020_00_48_14.jpeg\n",
            "/content/drive/MyDrive/images/train/Can/25_03_2020_00_48_17.jpeg\n",
            "/content/drive/MyDrive/images/train/Can/25_03_2020_00_48_20.jpeg\n",
            "/content/drive/MyDrive/images/train/Can/25_03_2020_00_48_24.jpeg\n",
            "/content/drive/MyDrive/images/train/Can/25_03_2020_00_48_27.jpeg\n",
            "/content/drive/MyDrive/images/train/Can/25_03_2020_00_48_31.jpeg\n",
            "/content/drive/MyDrive/images/train/Can/25_03_2020_00_48_48.jpeg\n",
            "/content/drive/MyDrive/images/train/Can/25_03_2020_00_48_51.jpeg\n",
            "/content/drive/MyDrive/images/train/Can/25_03_2020_00_48_55.jpeg\n",
            "/content/drive/MyDrive/images/train/Can/25_03_2020_00_48_58.jpeg\n",
            "/content/drive/MyDrive/images/train/Can/25_03_2020_00_49_02.jpeg\n",
            "/content/drive/MyDrive/images/train/Can/25_03_2020_00_49_05.jpeg\n",
            "/content/drive/MyDrive/images/train/Can/25_03_2020_00_49_09.jpeg\n",
            "/content/drive/MyDrive/images/train/Can/25_03_2020_00_49_12.jpeg\n",
            "/content/drive/MyDrive/images/train/Can/02_03_2020_15_04_19.jpeg\n",
            "/content/drive/MyDrive/images/train/Can/02_03_2020_15_04_22.jpeg\n",
            "/content/drive/MyDrive/images/train/Can/02_03_2020_15_04_26.jpeg\n",
            "/content/drive/MyDrive/images/train/Can/02_03_2020_15_04_29.jpeg\n",
            "/content/drive/MyDrive/images/train/Can/02_03_2020_15_04_33.jpeg\n",
            "/content/drive/MyDrive/images/train/Can/02_03_2020_15_04_36.jpeg\n",
            "/content/drive/MyDrive/images/train/Can/02_03_2020_15_04_40.jpeg\n",
            "/content/drive/MyDrive/images/train/Can/02_03_2020_15_04_43.jpeg\n",
            "/content/drive/MyDrive/images/train/Can/02_03_2020_15_04_47.jpeg\n",
            "/content/drive/MyDrive/images/train/Can/02_03_2020_15_04_54.jpeg\n",
            "/content/drive/MyDrive/images/train/Can/02_03_2020_15_04_58.jpeg\n",
            "/content/drive/MyDrive/images/train/Can/02_03_2020_15_05_01.jpeg\n",
            "/content/drive/MyDrive/images/train/Can/02_03_2020_15_05_05.jpeg\n",
            "/content/drive/MyDrive/images/train/Can/02_03_2020_15_05_08.jpeg\n",
            "/content/drive/MyDrive/images/train/Can/02_03_2020_15_05_12.jpeg\n",
            "/content/drive/MyDrive/images/train/Can/02_03_2020_15_05_15.jpeg\n",
            "/content/drive/MyDrive/images/train/Can/02_03_2020_15_05_19.jpeg\n",
            "/content/drive/MyDrive/images/train/Can/02_03_2020_15_05_22.jpeg\n",
            "/content/drive/MyDrive/images/train/Can/02_03_2020_15_05_30.jpeg\n",
            "/content/drive/MyDrive/images/train/Can/02_03_2020_15_05_33.jpeg\n",
            "/content/drive/MyDrive/images/train/Can/02_03_2020_15_05_37.jpeg\n",
            "/content/drive/MyDrive/images/train/Can/02_03_2020_15_05_40.jpeg\n",
            "/content/drive/MyDrive/images/train/Can/02_03_2020_15_05_44.jpeg\n",
            "/content/drive/MyDrive/images/train/Can/02_03_2020_15_05_47.jpeg\n",
            "/content/drive/MyDrive/images/train/Can/02_03_2020_15_05_51.jpeg\n",
            "/content/drive/MyDrive/images/train/Can/02_03_2020_15_05_54.jpeg\n",
            "/content/drive/MyDrive/images/train/Can/02_03_2020_15_05_58.jpeg\n",
            "/content/drive/MyDrive/images/train/Can/02_03_2020_15_06_14.jpeg\n",
            "/content/drive/MyDrive/images/train/Can/02_03_2020_15_06_18.jpeg\n",
            "/content/drive/MyDrive/images/train/Can/02_03_2020_15_06_25.jpeg\n",
            "/content/drive/MyDrive/images/train/Can/02_03_2020_15_06_28.jpeg\n",
            "/content/drive/MyDrive/images/train/Can/02_03_2020_15_06_32.jpeg\n",
            "/content/drive/MyDrive/images/train/Can/02_03_2020_15_07_13.jpeg\n",
            "/content/drive/MyDrive/images/train/Can/02_03_2020_15_07_17.jpeg\n",
            "/content/drive/MyDrive/images/train/Can/04_04_2020_17_13_50.jpeg\n",
            "/content/drive/MyDrive/images/train/Can/04_04_2020_17_13_53.jpeg\n",
            "/content/drive/MyDrive/images/train/Can/04_04_2020_17_13_36.jpeg\n",
            "/content/drive/MyDrive/images/train/Can/04_04_2020_17_13_56.jpeg\n",
            "/content/drive/MyDrive/images/train/Can/04_04_2020_17_13_40.jpeg\n",
            "/content/drive/MyDrive/images/train/Can/04_04_2020_17_13_43.jpeg\n",
            "/content/drive/MyDrive/images/train/Can/04_04_2020_17_14_00.jpeg\n",
            "/content/drive/MyDrive/images/train/Can/04_04_2020_17_14_03.jpeg\n",
            "/content/drive/MyDrive/images/train/Can/04_04_2020_17_14_07.jpeg\n",
            "/content/drive/MyDrive/images/train/Can/04_04_2020_17_14_26.jpeg\n",
            "/content/drive/MyDrive/images/train/Can/04_04_2020_17_14_10.jpeg\n",
            "/content/drive/MyDrive/images/train/Can/04_04_2020_17_14_29.jpeg\n",
            "/content/drive/MyDrive/images/train/Can/04_04_2020_17_14_14.jpeg\n",
            "/content/drive/MyDrive/images/train/Can/04_04_2020_17_14_33.jpeg\n",
            "/content/drive/MyDrive/images/train/Can/04_04_2020_17_14_17.jpeg\n",
            "/content/drive/MyDrive/images/train/Can/04_04_2020_17_14_36.jpeg\n",
            "/content/drive/MyDrive/images/train/Can/04_04_2020_17_14_21.jpeg\n",
            "/content/drive/MyDrive/images/train/Can/04_04_2020_17_14_40.jpeg\n",
            "/content/drive/MyDrive/images/train/Can/04_04_2020_17_14_43.jpeg\n",
            "/content/drive/MyDrive/images/train/Can/04_04_2020_17_15_03.jpeg\n",
            "/content/drive/MyDrive/images/train/Can/04_04_2020_17_14_47.jpeg\n",
            "/content/drive/MyDrive/images/train/Can/04_04_2020_17_15_06.jpeg\n",
            "/content/drive/MyDrive/images/train/Can/04_04_2020_17_14_50.jpeg\n",
            "/content/drive/MyDrive/images/train/Can/04_04_2020_17_15_09.jpeg\n",
            "/content/drive/MyDrive/images/train/Can/04_04_2020_17_14_54.jpeg\n",
            "/content/drive/MyDrive/images/train/Can/04_04_2020_17_15_13.jpeg\n",
            "/content/drive/MyDrive/images/train/Can/04_04_2020_17_14_57.jpeg\n",
            "/content/drive/MyDrive/images/train/Can/04_04_2020_17_15_16.jpeg\n",
            "/content/drive/MyDrive/images/train/Can/04_04_2020_17_15_20.jpeg\n",
            "/content/drive/MyDrive/images/train/Can/04_04_2020_17_15_47.jpeg\n",
            "/content/drive/MyDrive/images/train/Can/04_04_2020_17_15_23.jpeg\n",
            "/content/drive/MyDrive/images/train/Can/04_04_2020_17_15_51.jpeg\n",
            "/content/drive/MyDrive/images/train/Can/04_04_2020_17_15_27.jpeg\n",
            "/content/drive/MyDrive/images/train/Can/04_04_2020_17_15_54.jpeg\n",
            "/content/drive/MyDrive/images/train/Can/04_04_2020_17_15_30.jpeg\n",
            "/content/drive/MyDrive/images/train/Can/04_04_2020_17_15_58.jpeg\n",
            "/content/drive/MyDrive/images/train/Can/04_04_2020_17_15_34.jpeg\n",
            "/content/drive/MyDrive/images/train/Can/04_04_2020_17_16_01.jpeg\n",
            "/content/drive/MyDrive/images/train/Can/04_04_2020_17_16_05.jpeg\n",
            "/content/drive/MyDrive/images/train/Can/04_04_2020_17_16_24.jpeg\n",
            "/content/drive/MyDrive/images/train/Can/04_04_2020_17_16_08.jpeg\n",
            "/content/drive/MyDrive/images/train/Can/04_04_2020_17_16_27.jpeg\n",
            "/content/drive/MyDrive/images/train/Can/04_04_2020_17_16_12.jpeg\n",
            "/content/drive/MyDrive/images/train/Can/04_04_2020_17_16_31.jpeg\n",
            "/content/drive/MyDrive/images/train/Can/04_04_2020_17_16_15.jpeg\n",
            "/content/drive/MyDrive/images/train/Can/04_04_2020_17_16_20.jpeg\n",
            "/content/drive/MyDrive/images/train/Can/04_04_2020_17_16_34.jpeg\n",
            "/content/drive/MyDrive/images/train/Can/04_04_2020_17_16_38.jpeg\n",
            "/content/drive/MyDrive/images/train/Can/04_04_2020_17_16_41.jpeg\n",
            "/content/drive/MyDrive/images/train/Can/04_04_2020_17_16_45.jpeg\n",
            "/content/drive/MyDrive/images/train/Can/04_04_2020_17_16_48.jpeg\n",
            "/content/drive/MyDrive/images/train/Can/04_04_2020_17_16_52.jpeg\n",
            "plastique0.5L\n",
            "/content/drive/MyDrive/images/train/plastique0.5L/25_03_2020_00_35_32.jpeg\n",
            "/content/drive/MyDrive/images/train/plastique0.5L/25_03_2020_00_35_36.jpeg\n",
            "/content/drive/MyDrive/images/train/plastique0.5L/25_03_2020_00_35_39.jpeg\n",
            "/content/drive/MyDrive/images/train/plastique0.5L/25_03_2020_00_37_19.jpeg\n",
            "/content/drive/MyDrive/images/train/plastique0.5L/25_03_2020_00_37_23.jpeg\n",
            "/content/drive/MyDrive/images/train/plastique0.5L/25_03_2020_00_37_26.jpeg\n",
            "/content/drive/MyDrive/images/train/plastique0.5L/25_03_2020_00_37_30.jpeg\n",
            "/content/drive/MyDrive/images/train/plastique0.5L/25_03_2020_00_37_33.jpeg\n",
            "/content/drive/MyDrive/images/train/plastique0.5L/25_03_2020_00_37_37.jpeg\n",
            "/content/drive/MyDrive/images/train/plastique0.5L/25_03_2020_00_38_04.jpeg\n",
            "/content/drive/MyDrive/images/train/plastique0.5L/25_03_2020_00_38_08.jpeg\n",
            "/content/drive/MyDrive/images/train/plastique0.5L/25_03_2020_00_38_15.jpeg\n",
            "/content/drive/MyDrive/images/train/plastique0.5L/25_03_2020_00_38_18.jpeg\n",
            "/content/drive/MyDrive/images/train/plastique0.5L/25_03_2020_00_38_21.jpeg\n",
            "/content/drive/MyDrive/images/train/plastique0.5L/25_03_2020_00_38_25.jpeg\n",
            "/content/drive/MyDrive/images/train/plastique0.5L/25_03_2020_00_38_57.jpeg\n",
            "/content/drive/MyDrive/images/train/plastique0.5L/25_03_2020_00_39_04.jpeg\n",
            "/content/drive/MyDrive/images/train/plastique0.5L/25_03_2020_00_39_11.jpeg\n",
            "/content/drive/MyDrive/images/train/plastique0.5L/25_03_2020_00_39_14.jpeg\n",
            "/content/drive/MyDrive/images/train/plastique0.5L/25_03_2020_00_39_18.jpeg\n",
            "/content/drive/MyDrive/images/train/plastique0.5L/25_03_2020_00_39_21.jpeg\n",
            "plastique1.5L\n",
            "/content/drive/MyDrive/images/train/plastique1.5L/02_03_2020_14_26_19.jpeg\n",
            "/content/drive/MyDrive/images/train/plastique1.5L/02_03_2020_14_24_11.jpeg\n",
            "/content/drive/MyDrive/images/train/plastique1.5L/02_03_2020_14_24_14.jpeg\n",
            "/content/drive/MyDrive/images/train/plastique1.5L/02_03_2020_14_26_23.jpeg\n",
            "/content/drive/MyDrive/images/train/plastique1.5L/02_03_2020_14_24_18.jpeg\n",
            "/content/drive/MyDrive/images/train/plastique1.5L/02_03_2020_14_24_21.jpeg\n",
            "/content/drive/MyDrive/images/train/plastique1.5L/02_03_2020_14_26_26.jpeg\n",
            "/content/drive/MyDrive/images/train/plastique1.5L/02_03_2020_14_24_25.jpeg\n",
            "/content/drive/MyDrive/images/train/plastique1.5L/02_03_2020_14_26_30.jpeg\n",
            "/content/drive/MyDrive/images/train/plastique1.5L/02_03_2020_14_24_28.jpeg\n",
            "/content/drive/MyDrive/images/train/plastique1.5L/02_03_2020_14_24_35.jpeg\n",
            "/content/drive/MyDrive/images/train/plastique1.5L/02_03_2020_14_24_39.jpeg\n",
            "/content/drive/MyDrive/images/train/plastique1.5L/02_03_2020_14_26_33.jpeg\n",
            "/content/drive/MyDrive/images/train/plastique1.5L/02_03_2020_14_26_37.jpeg\n",
            "/content/drive/MyDrive/images/train/plastique1.5L/02_03_2020_14_26_40.jpeg\n",
            "/content/drive/MyDrive/images/train/plastique1.5L/02_03_2020_14_26_54.jpeg\n",
            "/content/drive/MyDrive/images/train/plastique1.5L/02_03_2020_14_26_57.jpeg\n",
            "/content/drive/MyDrive/images/train/plastique1.5L/02_03_2020_14_27_01.jpeg\n",
            "/content/drive/MyDrive/images/train/plastique1.5L/02_03_2020_14_30_13.jpeg\n",
            "/content/drive/MyDrive/images/train/plastique1.5L/02_03_2020_14_30_16.jpeg\n",
            "/content/drive/MyDrive/images/train/plastique1.5L/02_03_2020_14_30_20.jpeg\n",
            "/content/drive/MyDrive/images/train/plastique1.5L/02_03_2020_14_31_12.jpeg\n",
            "/content/drive/MyDrive/images/train/plastique1.5L/02_03_2020_14_30_23.jpeg\n",
            "/content/drive/MyDrive/images/train/plastique1.5L/02_03_2020_14_30_27.jpeg\n",
            "/content/drive/MyDrive/images/train/plastique1.5L/02_03_2020_14_31_15.jpeg\n",
            "/content/drive/MyDrive/images/train/plastique1.5L/02_03_2020_14_30_34.jpeg\n",
            "/content/drive/MyDrive/images/train/plastique1.5L/02_03_2020_14_31_19.jpeg\n",
            "/content/drive/MyDrive/images/train/plastique1.5L/02_03_2020_14_30_54.jpeg\n",
            "/content/drive/MyDrive/images/train/plastique1.5L/02_03_2020_14_31_22.jpeg\n",
            "/content/drive/MyDrive/images/train/plastique1.5L/02_03_2020_14_46_52.jpeg\n",
            "/content/drive/MyDrive/images/train/plastique1.5L/02_03_2020_14_46_55.jpeg\n",
            "/content/drive/MyDrive/images/train/plastique1.5L/02_03_2020_14_46_59.jpeg\n",
            "/content/drive/MyDrive/images/train/plastique1.5L/02_03_2020_14_47_40.jpeg\n",
            "/content/drive/MyDrive/images/train/plastique1.5L/02_03_2020_14_47_02.jpeg\n",
            "/content/drive/MyDrive/images/train/plastique1.5L/02_03_2020_14_47_06.jpeg\n",
            "/content/drive/MyDrive/images/train/plastique1.5L/02_03_2020_14_47_43.jpeg\n",
            "/content/drive/MyDrive/images/train/plastique1.5L/02_03_2020_14_47_09.jpeg\n",
            "/content/drive/MyDrive/images/train/plastique1.5L/02_03_2020_14_47_13.jpeg\n",
            "/content/drive/MyDrive/images/train/plastique1.5L/02_03_2020_14_47_16.jpeg\n",
            "/content/drive/MyDrive/images/train/plastique1.5L/02_03_2020_14_47_47.jpeg\n",
            "/content/drive/MyDrive/images/train/plastique1.5L/02_03_2020_14_47_20.jpeg\n",
            "/content/drive/MyDrive/images/train/plastique1.5L/02_03_2020_14_47_33.jpeg\n",
            "/content/drive/MyDrive/images/train/plastique1.5L/02_03_2020_14_47_50.jpeg\n",
            "/content/drive/MyDrive/images/train/plastique1.5L/02_03_2020_14_47_36.jpeg\n",
            "/content/drive/MyDrive/images/train/plastique1.5L/02_03_2020_14_47_54.jpeg\n",
            "/content/drive/MyDrive/images/train/plastique1.5L/02_03_2020_14_47_57(1).jpeg\n",
            "/content/drive/MyDrive/images/train/plastique1.5L/02_03_2020_14_48_36.jpeg\n",
            "/content/drive/MyDrive/images/train/plastique1.5L/02_03_2020_14_48_01(1).jpeg\n",
            "/content/drive/MyDrive/images/train/plastique1.5L/02_03_2020_14_48_11(1).jpeg\n",
            "/content/drive/MyDrive/images/train/plastique1.5L/02_03_2020_14_48_39.jpeg\n",
            "/content/drive/MyDrive/images/train/plastique1.5L/02_03_2020_14_48_15(1).jpeg\n",
            "/content/drive/MyDrive/images/train/plastique1.5L/02_03_2020_14_48_50.jpeg\n",
            "/content/drive/MyDrive/images/train/plastique1.5L/02_03_2020_14_48_18(1).jpeg\n",
            "/content/drive/MyDrive/images/train/plastique1.5L/02_03_2020_14_48_22(1).jpeg\n",
            "/content/drive/MyDrive/images/train/plastique1.5L/02_03_2020_14_48_54.jpeg\n",
            "/content/drive/MyDrive/images/train/plastique1.5L/02_03_2020_14_48_25(1).jpeg\n",
            "/content/drive/MyDrive/images/train/plastique1.5L/02_03_2020_14_48_29(1).jpeg\n",
            "/content/drive/MyDrive/images/train/plastique1.5L/02_03_2020_14_48_57.jpeg\n",
            "/content/drive/MyDrive/images/train/plastique1.5L/02_03_2020_14_48_32(1).jpeg\n",
            "/content/drive/MyDrive/images/train/plastique1.5L/02_03_2020_14_49_01.jpeg\n",
            "/content/drive/MyDrive/images/train/plastique1.5L/02_03_2020_14_49_04.jpeg\n",
            "/content/drive/MyDrive/images/train/plastique1.5L/02_03_2020_14_49_08.jpeg\n",
            "/content/drive/MyDrive/images/train/plastique1.5L/02_03_2020_14_49_11.jpeg\n",
            "/content/drive/MyDrive/images/train/plastique1.5L/02_03_2020_14_49_15.jpeg\n",
            "/content/drive/MyDrive/images/train/plastique1.5L/02_03_2020_14_49_18.jpeg\n",
            "/content/drive/MyDrive/images/train/plastique1.5L/02_03_2020_14_49_42.jpeg\n",
            "/content/drive/MyDrive/images/train/plastique1.5L/02_03_2020_14_49_45.jpeg\n",
            "/content/drive/MyDrive/images/train/plastique1.5L/02_03_2020_14_49_49.jpeg\n",
            "/content/drive/MyDrive/images/train/plastique1.5L/02_03_2020_14_49_52.jpeg\n",
            "/content/drive/MyDrive/images/train/plastique1.5L/02_03_2020_14_49_56.jpeg\n",
            "/content/drive/MyDrive/images/train/plastique1.5L/02_03_2020_14_49_59.jpeg\n",
            "/content/drive/MyDrive/images/train/plastique1.5L/02_03_2020_14_50_03.jpeg\n",
            "/content/drive/MyDrive/images/train/plastique1.5L/02_03_2020_14_50_40.jpeg\n",
            "/content/drive/MyDrive/images/train/plastique1.5L/02_03_2020_14_50_44.jpeg\n",
            "/content/drive/MyDrive/images/train/plastique1.5L/02_03_2020_14_50_47.jpeg\n",
            "/content/drive/MyDrive/images/train/plastique1.5L/02_03_2020_14_50_51.jpeg\n",
            "/content/drive/MyDrive/images/train/plastique1.5L/02_03_2020_14_50_54.jpeg\n",
            "/content/drive/MyDrive/images/train/plastique1.5L/02_03_2020_14_50_58.jpeg\n",
            "/content/drive/MyDrive/images/train/plastique1.5L/02_03_2020_14_47_57.jpeg\n",
            "/content/drive/MyDrive/images/train/plastique1.5L/02_03_2020_14_48_01.jpeg\n",
            "/content/drive/MyDrive/images/train/plastique1.5L/02_03_2020_14_48_11.jpeg\n",
            "/content/drive/MyDrive/images/train/plastique1.5L/02_03_2020_14_48_15.jpeg\n",
            "/content/drive/MyDrive/images/train/plastique1.5L/02_03_2020_14_48_18.jpeg\n",
            "/content/drive/MyDrive/images/train/plastique1.5L/02_03_2020_14_48_22.jpeg\n",
            "/content/drive/MyDrive/images/train/plastique1.5L/02_03_2020_14_48_25.jpeg\n",
            "/content/drive/MyDrive/images/train/plastique1.5L/02_03_2020_14_48_29.jpeg\n",
            "/content/drive/MyDrive/images/train/plastique1.5L/02_03_2020_14_48_32.jpeg\n",
            "plastique1L\n",
            "/content/drive/MyDrive/images/train/plastique1L/02_03_2020_14_56_45.jpeg\n",
            "/content/drive/MyDrive/images/train/plastique1L/02_03_2020_14_57_21.jpeg\n",
            "/content/drive/MyDrive/images/train/plastique1L/02_03_2020_14_56_49.jpeg\n",
            "/content/drive/MyDrive/images/train/plastique1L/02_03_2020_14_56_52.jpeg\n",
            "/content/drive/MyDrive/images/train/plastique1L/02_03_2020_14_57_25.jpeg\n",
            "/content/drive/MyDrive/images/train/plastique1L/02_03_2020_14_56_56.jpeg\n",
            "/content/drive/MyDrive/images/train/plastique1L/02_03_2020_14_57_28.jpeg\n",
            "/content/drive/MyDrive/images/train/plastique1L/02_03_2020_14_56_59.jpeg\n",
            "/content/drive/MyDrive/images/train/plastique1L/02_03_2020_14_57_03.jpeg\n",
            "/content/drive/MyDrive/images/train/plastique1L/02_03_2020_14_57_32.jpeg\n",
            "/content/drive/MyDrive/images/train/plastique1L/02_03_2020_14_57_06.jpeg\n",
            "/content/drive/MyDrive/images/train/plastique1L/02_03_2020_14_57_10.jpeg\n",
            "/content/drive/MyDrive/images/train/plastique1L/02_03_2020_14_57_35.jpeg\n",
            "/content/drive/MyDrive/images/train/plastique1L/02_03_2020_14_57_13.jpeg\n",
            "/content/drive/MyDrive/images/train/plastique1L/02_03_2020_14_57_39.jpeg\n",
            "/content/drive/MyDrive/images/train/plastique1L/02_03_2020_14_57_42.jpeg\n",
            "/content/drive/MyDrive/images/train/plastique1L/02_03_2020_14_57_46.jpeg\n",
            "/content/drive/MyDrive/images/train/plastique1L/02_03_2020_14_57_49.jpeg\n",
            "/content/drive/MyDrive/images/train/plastique1L/02_03_2020_14_58_03.jpeg\n",
            "/content/drive/MyDrive/images/train/plastique1L/02_03_2020_14_58_30.jpeg\n",
            "/content/drive/MyDrive/images/train/plastique1L/02_03_2020_14_58_06.jpeg\n",
            "/content/drive/MyDrive/images/train/plastique1L/02_03_2020_14_58_10.jpeg\n",
            "/content/drive/MyDrive/images/train/plastique1L/02_03_2020_14_58_13.jpeg\n",
            "/content/drive/MyDrive/images/train/plastique1L/02_03_2020_15_01_03.jpeg\n",
            "/content/drive/MyDrive/images/train/plastique1L/02_03_2020_15_01_33.jpeg\n",
            "/content/drive/MyDrive/images/train/plastique1L/02_03_2020_15_01_54.jpeg\n",
            "/content/drive/MyDrive/images/train/plastique1L/02_03_2020_15_01_57.jpeg\n",
            "/content/drive/MyDrive/images/train/plastique1L/02_03_2020_14_53_06.jpeg\n",
            "/content/drive/MyDrive/images/train/plastique1L/02_03_2020_14_53_09.jpeg\n",
            "/content/drive/MyDrive/images/train/plastique1L/02_03_2020_14_52_46.jpeg\n",
            "/content/drive/MyDrive/images/train/plastique1L/02_03_2020_14_52_49.jpeg\n",
            "/content/drive/MyDrive/images/train/plastique1L/02_03_2020_14_52_53.jpeg\n",
            "/content/drive/MyDrive/images/train/plastique1L/02_03_2020_14_52_56.jpeg\n",
            "/content/drive/MyDrive/images/train/plastique1L/02_03_2020_14_53_30.jpeg\n",
            "/content/drive/MyDrive/images/train/plastique1L/02_03_2020_14_54_01.jpeg\n",
            "/content/drive/MyDrive/images/train/plastique1L/02_03_2020_14_53_34.jpeg\n",
            "/content/drive/MyDrive/images/train/plastique1L/02_03_2020_14_54_04.jpeg\n",
            "/content/drive/MyDrive/images/train/plastique1L/02_03_2020_14_53_40.jpeg\n",
            "/content/drive/MyDrive/images/train/plastique1L/02_03_2020_14_53_43.jpeg\n",
            "/content/drive/MyDrive/images/train/plastique1L/02_03_2020_14_53_47.jpeg\n",
            "/content/drive/MyDrive/images/train/plastique1L/02_03_2020_14_54_08.jpeg\n",
            "/content/drive/MyDrive/images/train/plastique1L/02_03_2020_14_53_50.jpeg\n",
            "/content/drive/MyDrive/images/train/plastique1L/02_03_2020_14_54_37.jpeg\n",
            "/content/drive/MyDrive/images/train/plastique1L/02_03_2020_14_53_54.jpeg\n",
            "/content/drive/MyDrive/images/train/plastique1L/02_03_2020_14_54_41.jpeg\n",
            "/content/drive/MyDrive/images/train/plastique1L/02_03_2020_14_53_57.jpeg\n",
            "/content/drive/MyDrive/images/train/plastique1L/02_03_2020_14_54_44.jpeg\n",
            "/content/drive/MyDrive/images/train/plastique1L/02_03_2020_14_55_17.jpeg\n",
            "/content/drive/MyDrive/images/train/plastique1L/02_03_2020_14_54_48.jpeg\n",
            "/content/drive/MyDrive/images/train/plastique1L/02_03_2020_14_54_51.jpeg\n",
            "/content/drive/MyDrive/images/train/plastique1L/02_03_2020_14_55_21.jpeg\n",
            "/content/drive/MyDrive/images/train/plastique1L/02_03_2020_14_54_55.jpeg\n",
            "/content/drive/MyDrive/images/train/plastique1L/02_03_2020_14_55_24.jpeg\n",
            "/content/drive/MyDrive/images/train/plastique1L/02_03_2020_14_54_58.jpeg\n",
            "/content/drive/MyDrive/images/train/plastique1L/02_03_2020_14_55_02.jpeg\n",
            "/content/drive/MyDrive/images/train/plastique1L/02_03_2020_14_55_28.jpeg\n",
            "/content/drive/MyDrive/images/train/plastique1L/02_03_2020_14_55_05.jpeg\n",
            "/content/drive/MyDrive/images/train/plastique1L/02_03_2020_14_55_31.jpeg\n",
            "/content/drive/MyDrive/images/train/plastique1L/02_03_2020_14_55_10.jpeg\n",
            "/content/drive/MyDrive/images/train/plastique1L/02_03_2020_14_55_14.jpeg\n",
            "/content/drive/MyDrive/images/train/plastique1L/02_03_2020_14_55_35.jpeg\n",
            "/content/drive/MyDrive/images/train/plastique1L/02_03_2020_14_55_38.jpeg\n",
            "plastique0.3L\n",
            "/content/drive/MyDrive/images/train/plastique0.3L/25_03_2020_00_43_19.jpeg\n",
            "/content/drive/MyDrive/images/train/plastique0.3L/25_03_2020_00_43_23.jpeg\n",
            "/content/drive/MyDrive/images/train/plastique0.3L/25_03_2020_00_43_26.jpeg\n",
            "/content/drive/MyDrive/images/train/plastique0.3L/25_03_2020_00_43_30.jpeg\n",
            "/content/drive/MyDrive/images/train/plastique0.3L/25_03_2020_00_43_33.jpeg\n",
            "/content/drive/MyDrive/images/train/plastique0.3L/25_03_2020_00_43_37.jpeg\n",
            "/content/drive/MyDrive/images/train/plastique0.3L/25_03_2020_00_43_40.jpeg\n",
            "/content/drive/MyDrive/images/train/plastique0.3L/25_03_2020_00_43_44.jpeg\n",
            "/content/drive/MyDrive/images/train/plastique0.3L/25_03_2020_00_43_51.jpeg\n",
            "/content/drive/MyDrive/images/train/plastique0.3L/25_03_2020_00_43_54.jpeg\n",
            "/content/drive/MyDrive/images/train/plastique0.3L/25_03_2020_00_43_58.jpeg\n",
            "/content/drive/MyDrive/images/train/plastique0.3L/25_03_2020_00_44_01.jpeg\n",
            "/content/drive/MyDrive/images/train/plastique0.3L/25_03_2020_00_44_05.jpeg\n",
            "/content/drive/MyDrive/images/train/plastique0.3L/25_03_2020_00_44_08.jpeg\n",
            "/content/drive/MyDrive/images/train/plastique0.3L/25_03_2020_00_44_12.jpeg\n",
            "/content/drive/MyDrive/images/train/plastique0.3L/25_03_2020_00_44_15.jpeg\n",
            "/content/drive/MyDrive/images/train/plastique0.3L/25_03_2020_00_44_31.jpeg\n",
            "/content/drive/MyDrive/images/train/plastique0.3L/25_03_2020_00_44_35.jpeg\n",
            "/content/drive/MyDrive/images/train/plastique0.3L/25_03_2020_00_44_38.jpeg\n",
            "/content/drive/MyDrive/images/train/plastique0.3L/25_03_2020_00_44_42.jpeg\n",
            "/content/drive/MyDrive/images/train/plastique0.3L/25_03_2020_00_44_45.jpeg\n",
            "/content/drive/MyDrive/images/train/plastique0.3L/25_03_2020_00_44_49.jpeg\n",
            "/content/drive/MyDrive/images/train/plastique0.3L/25_03_2020_00_44_52.jpeg\n",
            "/content/drive/MyDrive/images/train/plastique0.3L/25_03_2020_00_44_56.jpeg\n",
            "/content/drive/MyDrive/images/train/plastique0.3L/25_03_2020_00_45_25.jpeg\n",
            "/content/drive/MyDrive/images/train/plastique0.3L/25_03_2020_00_45_29.jpeg\n",
            "/content/drive/MyDrive/images/train/plastique0.3L/25_03_2020_00_45_32.jpeg\n",
            "/content/drive/MyDrive/images/train/plastique0.3L/25_03_2020_00_45_36.jpeg\n",
            "/content/drive/MyDrive/images/train/plastique0.3L/25_03_2020_00_45_39.jpeg\n",
            "/content/drive/MyDrive/images/train/plastique0.3L/25_03_2020_00_45_43.jpeg\n",
            "/content/drive/MyDrive/images/train/plastique0.3L/25_03_2020_00_45_46.jpeg\n",
            "/content/drive/MyDrive/images/train/plastique0.3L/25_03_2020_00_45_50.jpeg\n",
            "pltasique2L\n",
            "/content/drive/MyDrive/images/train/pltasique2L/02_03_2020_14_40_55.jpeg\n",
            "/content/drive/MyDrive/images/train/pltasique2L/02_03_2020_14_41_31.jpeg\n",
            "/content/drive/MyDrive/images/train/pltasique2L/02_03_2020_14_40_58.jpeg\n",
            "/content/drive/MyDrive/images/train/pltasique2L/02_03_2020_14_41_02.jpeg\n",
            "/content/drive/MyDrive/images/train/pltasique2L/02_03_2020_14_41_35.jpeg\n",
            "/content/drive/MyDrive/images/train/pltasique2L/02_03_2020_14_41_38.jpeg\n",
            "/content/drive/MyDrive/images/train/pltasique2L/02_03_2020_14_41_42.jpeg\n",
            "/content/drive/MyDrive/images/train/pltasique2L/02_03_2020_14_41_45.jpeg\n",
            "/content/drive/MyDrive/images/train/pltasique2L/02_03_2020_14_41_19.jpeg\n",
            "/content/drive/MyDrive/images/train/pltasique2L/02_03_2020_14_41_49.jpeg\n",
            "/content/drive/MyDrive/images/train/pltasique2L/02_03_2020_14_41_23.jpeg\n",
            "/content/drive/MyDrive/images/train/pltasique2L/02_03_2020_14_41_56.jpeg\n",
            "/content/drive/MyDrive/images/train/pltasique2L/02_03_2020_14_41_52.jpeg\n",
            "/content/drive/MyDrive/images/train/pltasique2L/02_03_2020_14_41_59.jpeg\n",
            "/content/drive/MyDrive/images/train/pltasique2L/02_03_2020_14_42_38.jpeg\n",
            "/content/drive/MyDrive/images/train/pltasique2L/02_03_2020_14_42_13.jpeg\n",
            "/content/drive/MyDrive/images/train/pltasique2L/02_03_2020_14_42_17.jpeg\n",
            "/content/drive/MyDrive/images/train/pltasique2L/02_03_2020_14_42_41.jpeg\n",
            "/content/drive/MyDrive/images/train/pltasique2L/02_03_2020_14_42_20.jpeg\n",
            "/content/drive/MyDrive/images/train/pltasique2L/02_03_2020_14_44_24.jpeg\n",
            "/content/drive/MyDrive/images/train/pltasique2L/02_03_2020_14_42_24.jpeg\n",
            "/content/drive/MyDrive/images/train/pltasique2L/02_03_2020_14_44_28.jpeg\n",
            "/content/drive/MyDrive/images/train/pltasique2L/02_03_2020_14_42_27.jpeg\n",
            "/content/drive/MyDrive/images/train/pltasique2L/02_03_2020_14_42_31.jpeg\n",
            "/content/drive/MyDrive/images/train/pltasique2L/02_03_2020_14_44_31.jpeg\n",
            "/content/drive/MyDrive/images/train/pltasique2L/02_03_2020_14_42_34.jpeg\n",
            "/content/drive/MyDrive/images/train/pltasique2L/02_03_2020_14_44_35.jpeg\n",
            "/content/drive/MyDrive/images/train/pltasique2L/02_03_2020_14_44_38.jpeg\n",
            "/content/drive/MyDrive/images/train/pltasique2L/02_03_2020_14_44_42.jpeg\n",
            "/content/drive/MyDrive/images/train/pltasique2L/02_03_2020_14_45_15.jpeg\n",
            "/content/drive/MyDrive/images/train/pltasique2L/02_03_2020_14_44_45.jpeg\n",
            "/content/drive/MyDrive/images/train/pltasique2L/02_03_2020_14_45_19.jpeg\n",
            "/content/drive/MyDrive/images/train/pltasique2L/02_03_2020_14_44_49.jpeg\n",
            "/content/drive/MyDrive/images/train/pltasique2L/02_03_2020_14_45_22.jpeg\n",
            "/content/drive/MyDrive/images/train/pltasique2L/02_03_2020_14_44_52.jpeg\n",
            "/content/drive/MyDrive/images/train/pltasique2L/02_03_2020_14_45_01.jpeg\n",
            "/content/drive/MyDrive/images/train/pltasique2L/02_03_2020_14_45_05.jpeg\n",
            "/content/drive/MyDrive/images/train/pltasique2L/02_03_2020_14_45_26.jpeg\n",
            "/content/drive/MyDrive/images/train/pltasique2L/02_03_2020_14_45_08.jpeg\n",
            "/content/drive/MyDrive/images/train/pltasique2L/02_03_2020_14_45_12.jpeg\n",
            "/content/drive/MyDrive/images/train/pltasique2L/02_03_2020_14_45_29.jpeg\n"
          ]
        }
      ]
    },
    {
      "cell_type": "code",
      "metadata": {
        "colab": {
          "base_uri": "https://localhost:8080/"
        },
        "id": "b9kt-tw3KFIy",
        "outputId": "7b2aa571-25b8-4305-e284-3e074a7efdbc"
      },
      "source": [
        "for directory_path in glob.glob(\"/content/drive/MyDrive/images/train/*\"):\n",
        "    label = directory_path.split(\"/\")[-1]\n",
        "    print(label)\n",
        "    for img_path in glob.glob(os.path.join(directory_path, \"*.jpg\")):\n",
        "        print(img_path)\n",
        "        img = cv2.imread(img_path, cv2.IMREAD_COLOR)       \n",
        "        img = cv2.resize(img, (SIZE, SIZE))\n",
        "        img = cv2.cvtColor(img, cv2.COLOR_RGB2BGR)\n",
        "        train_images.append(img)\n",
        "        train_labels.append(label)"
      ],
      "execution_count": null,
      "outputs": [
        {
          "output_type": "stream",
          "name": "stdout",
          "text": [
            "Glass\n",
            "Can\n",
            "/content/drive/MyDrive/images/train/Can/image169.jpg\n",
            "/content/drive/MyDrive/images/train/Can/image170.jpg\n",
            "/content/drive/MyDrive/images/train/Can/image171.jpg\n",
            "/content/drive/MyDrive/images/train/Can/image173.jpg\n",
            "/content/drive/MyDrive/images/train/Can/image182.jpg\n",
            "/content/drive/MyDrive/images/train/Can/image183.jpg\n",
            "/content/drive/MyDrive/images/train/Can/image184.jpg\n",
            "/content/drive/MyDrive/images/train/Can/image185.jpg\n",
            "/content/drive/MyDrive/images/train/Can/image186.jpg\n",
            "/content/drive/MyDrive/images/train/Can/image187.jpg\n",
            "/content/drive/MyDrive/images/train/Can/image188.jpg\n",
            "/content/drive/MyDrive/images/train/Can/image190.jpg\n",
            "/content/drive/MyDrive/images/train/Can/image191.jpg\n",
            "/content/drive/MyDrive/images/train/Can/image192.jpg\n",
            "/content/drive/MyDrive/images/train/Can/image193.jpg\n",
            "/content/drive/MyDrive/images/train/Can/image194.jpg\n",
            "/content/drive/MyDrive/images/train/Can/image195.jpg\n",
            "/content/drive/MyDrive/images/train/Can/image196.jpg\n",
            "/content/drive/MyDrive/images/train/Can/image197.jpg\n",
            "plastique0.5L\n",
            "/content/drive/MyDrive/images/train/plastique0.5L/image109.jpg\n",
            "/content/drive/MyDrive/images/train/plastique0.5L/image114.jpg\n",
            "/content/drive/MyDrive/images/train/plastique0.5L/image115.jpg\n",
            "/content/drive/MyDrive/images/train/plastique0.5L/image116.jpg\n",
            "/content/drive/MyDrive/images/train/plastique0.5L/image117.jpg\n",
            "/content/drive/MyDrive/images/train/plastique0.5L/image122.jpg\n",
            "/content/drive/MyDrive/images/train/plastique0.5L/image123.jpg\n",
            "/content/drive/MyDrive/images/train/plastique0.5L/image124.jpg\n",
            "/content/drive/MyDrive/images/train/plastique0.5L/image125.jpg\n",
            "/content/drive/MyDrive/images/train/plastique0.5L/image126.jpg\n",
            "/content/drive/MyDrive/images/train/plastique0.5L/image127.jpg\n",
            "/content/drive/MyDrive/images/train/plastique0.5L/image128.jpg\n",
            "/content/drive/MyDrive/images/train/plastique0.5L/image129.jpg\n",
            "/content/drive/MyDrive/images/train/plastique0.5L/image131.jpg\n",
            "/content/drive/MyDrive/images/train/plastique0.5L/image134.jpg\n",
            "/content/drive/MyDrive/images/train/plastique0.5L/image135.jpg\n",
            "/content/drive/MyDrive/images/train/plastique0.5L/image137.jpg\n",
            "/content/drive/MyDrive/images/train/plastique0.5L/image138.jpg\n",
            "/content/drive/MyDrive/images/train/plastique0.5L/image139.jpg\n",
            "/content/drive/MyDrive/images/train/plastique0.5L/image140.jpg\n",
            "/content/drive/MyDrive/images/train/plastique0.5L/image141.jpg\n",
            "/content/drive/MyDrive/images/train/plastique0.5L/image143.jpg\n",
            "/content/drive/MyDrive/images/train/plastique0.5L/image144.jpg\n",
            "/content/drive/MyDrive/images/train/plastique0.5L/image145.jpg\n",
            "/content/drive/MyDrive/images/train/plastique0.5L/image146.jpg\n",
            "/content/drive/MyDrive/images/train/plastique0.5L/image147.jpg\n",
            "/content/drive/MyDrive/images/train/plastique0.5L/image148.jpg\n",
            "/content/drive/MyDrive/images/train/plastique0.5L/image149.jpg\n",
            "/content/drive/MyDrive/images/train/plastique0.5L/image150.jpg\n",
            "/content/drive/MyDrive/images/train/plastique0.5L/image151.jpg\n",
            "/content/drive/MyDrive/images/train/plastique0.5L/image152.jpg\n",
            "/content/drive/MyDrive/images/train/plastique0.5L/image153.jpg\n",
            "/content/drive/MyDrive/images/train/plastique0.5L/image159.jpg\n",
            "/content/drive/MyDrive/images/train/plastique0.5L/image160.jpg\n",
            "/content/drive/MyDrive/images/train/plastique0.5L/image161.jpg\n",
            "/content/drive/MyDrive/images/train/plastique0.5L/image162.jpg\n",
            "/content/drive/MyDrive/images/train/plastique0.5L/image163.jpg\n",
            "/content/drive/MyDrive/images/train/plastique0.5L/image164.jpg\n",
            "/content/drive/MyDrive/images/train/plastique0.5L/image165.jpg\n",
            "/content/drive/MyDrive/images/train/plastique0.5L/image166.jpg\n",
            "/content/drive/MyDrive/images/train/plastique0.5L/image167.jpg\n",
            "/content/drive/MyDrive/images/train/plastique0.5L/image168.jpg\n",
            "plastique1.5L\n",
            "/content/drive/MyDrive/images/train/plastique1.5L/image3.jpg\n",
            "/content/drive/MyDrive/images/train/plastique1.5L/image8.jpg\n",
            "/content/drive/MyDrive/images/train/plastique1.5L/image83.jpg\n",
            "/content/drive/MyDrive/images/train/plastique1.5L/image84.jpg\n",
            "/content/drive/MyDrive/images/train/plastique1.5L/image85.jpg\n",
            "/content/drive/MyDrive/images/train/plastique1.5L/image86.jpg\n",
            "/content/drive/MyDrive/images/train/plastique1.5L/image87.jpg\n",
            "/content/drive/MyDrive/images/train/plastique1.5L/image88.jpg\n",
            "/content/drive/MyDrive/images/train/plastique1.5L/image89.jpg\n",
            "/content/drive/MyDrive/images/train/plastique1.5L/image90.jpg\n",
            "/content/drive/MyDrive/images/train/plastique1.5L/image92.jpg\n",
            "/content/drive/MyDrive/images/train/plastique1.5L/image105.jpg\n",
            "/content/drive/MyDrive/images/train/plastique1.5L/image106.jpg\n",
            "/content/drive/MyDrive/images/train/plastique1.5L/image107.jpg\n",
            "/content/drive/MyDrive/images/train/plastique1.5L/image108.jpg\n",
            "plastique1L\n",
            "/content/drive/MyDrive/images/train/plastique1L/image20.jpg\n",
            "/content/drive/MyDrive/images/train/plastique1L/image21.jpg\n",
            "/content/drive/MyDrive/images/train/plastique1L/image23.jpg\n",
            "/content/drive/MyDrive/images/train/plastique1L/image24.jpg\n",
            "/content/drive/MyDrive/images/train/plastique1L/image29.jpg\n",
            "/content/drive/MyDrive/images/train/plastique1L/image30.jpg\n",
            "/content/drive/MyDrive/images/train/plastique1L/image31.jpg\n",
            "/content/drive/MyDrive/images/train/plastique1L/image32.jpg\n",
            "/content/drive/MyDrive/images/train/plastique1L/image33.jpg\n",
            "/content/drive/MyDrive/images/train/plastique1L/image35.jpg\n",
            "/content/drive/MyDrive/images/train/plastique1L/image37.jpg\n",
            "/content/drive/MyDrive/images/train/plastique1L/image38.jpg\n",
            "/content/drive/MyDrive/images/train/plastique1L/image39.jpg\n",
            "/content/drive/MyDrive/images/train/plastique1L/image40.jpg\n",
            "/content/drive/MyDrive/images/train/plastique1L/image41.jpg\n",
            "/content/drive/MyDrive/images/train/plastique1L/image42.jpg\n",
            "/content/drive/MyDrive/images/train/plastique1L/image43.jpg\n",
            "/content/drive/MyDrive/images/train/plastique1L/image44.jpg\n",
            "/content/drive/MyDrive/images/train/plastique1L/image45.jpg\n",
            "/content/drive/MyDrive/images/train/plastique1L/image46.jpg\n",
            "/content/drive/MyDrive/images/train/plastique1L/image47.jpg\n",
            "/content/drive/MyDrive/images/train/plastique1L/image48.jpg\n",
            "/content/drive/MyDrive/images/train/plastique1L/image49.jpg\n",
            "/content/drive/MyDrive/images/train/plastique1L/image50.jpg\n",
            "/content/drive/MyDrive/images/train/plastique1L/image51.jpg\n",
            "/content/drive/MyDrive/images/train/plastique1L/image52.jpg\n",
            "/content/drive/MyDrive/images/train/plastique1L/image53.jpg\n",
            "/content/drive/MyDrive/images/train/plastique1L/image54.jpg\n",
            "/content/drive/MyDrive/images/train/plastique1L/image55.jpg\n",
            "/content/drive/MyDrive/images/train/plastique1L/image56.jpg\n",
            "/content/drive/MyDrive/images/train/plastique1L/image57.jpg\n",
            "/content/drive/MyDrive/images/train/plastique1L/image58.jpg\n",
            "/content/drive/MyDrive/images/train/plastique1L/image59.jpg\n",
            "/content/drive/MyDrive/images/train/plastique1L/image60.jpg\n",
            "/content/drive/MyDrive/images/train/plastique1L/image61.jpg\n",
            "/content/drive/MyDrive/images/train/plastique1L/image62.jpg\n",
            "/content/drive/MyDrive/images/train/plastique1L/image63.jpg\n",
            "/content/drive/MyDrive/images/train/plastique1L/image64.jpg\n",
            "/content/drive/MyDrive/images/train/plastique1L/image65.jpg\n",
            "/content/drive/MyDrive/images/train/plastique1L/image66.jpg\n",
            "/content/drive/MyDrive/images/train/plastique1L/image67.jpg\n",
            "/content/drive/MyDrive/images/train/plastique1L/image68.jpg\n",
            "/content/drive/MyDrive/images/train/plastique1L/image69.jpg\n",
            "/content/drive/MyDrive/images/train/plastique1L/image70.jpg\n",
            "/content/drive/MyDrive/images/train/plastique1L/image71.jpg\n",
            "/content/drive/MyDrive/images/train/plastique1L/image72.jpg\n",
            "/content/drive/MyDrive/images/train/plastique1L/image73.jpg\n",
            "/content/drive/MyDrive/images/train/plastique1L/image74.jpg\n",
            "/content/drive/MyDrive/images/train/plastique1L/image75.jpg\n",
            "/content/drive/MyDrive/images/train/plastique1L/image76.jpg\n",
            "/content/drive/MyDrive/images/train/plastique1L/image77.jpg\n",
            "/content/drive/MyDrive/images/train/plastique1L/image78.jpg\n",
            "/content/drive/MyDrive/images/train/plastique1L/image79.jpg\n",
            "/content/drive/MyDrive/images/train/plastique1L/image80.jpg\n",
            "/content/drive/MyDrive/images/train/plastique1L/image81.jpg\n",
            "/content/drive/MyDrive/images/train/plastique1L/image82.jpg\n",
            "/content/drive/MyDrive/images/train/plastique1L/image97.jpg\n",
            "/content/drive/MyDrive/images/train/plastique1L/image98.jpg\n",
            "/content/drive/MyDrive/images/train/plastique1L/image99.jpg\n",
            "/content/drive/MyDrive/images/train/plastique1L/image100.jpg\n",
            "/content/drive/MyDrive/images/train/plastique1L/image101.jpg\n",
            "/content/drive/MyDrive/images/train/plastique1L/image103.jpg\n",
            "/content/drive/MyDrive/images/train/plastique1L/image104.jpg\n",
            "/content/drive/MyDrive/images/train/plastique1L/image110.jpg\n",
            "plastique0.3L\n",
            "pltasique2L\n",
            "/content/drive/MyDrive/images/train/pltasique2L/image9.jpg\n",
            "/content/drive/MyDrive/images/train/pltasique2L/image10.jpg\n",
            "/content/drive/MyDrive/images/train/pltasique2L/image12.jpg\n",
            "/content/drive/MyDrive/images/train/pltasique2L/image13.jpg\n",
            "/content/drive/MyDrive/images/train/pltasique2L/image14.jpg\n",
            "/content/drive/MyDrive/images/train/pltasique2L/image19.jpg\n",
            "/content/drive/MyDrive/images/train/pltasique2L/image26.jpg\n",
            "/content/drive/MyDrive/images/train/pltasique2L/image27.jpg\n",
            "/content/drive/MyDrive/images/train/pltasique2L/image28.jpg\n",
            "/content/drive/MyDrive/images/train/pltasique2L/image91.jpg\n",
            "/content/drive/MyDrive/images/train/pltasique2L/image93.jpg\n",
            "/content/drive/MyDrive/images/train/pltasique2L/image94.jpg\n",
            "/content/drive/MyDrive/images/train/pltasique2L/image95.jpg\n",
            "/content/drive/MyDrive/images/train/pltasique2L/image96.jpg\n",
            "/content/drive/MyDrive/images/train/pltasique2L/image102.jpg\n",
            "/content/drive/MyDrive/images/train/pltasique2L/image111.jpg\n",
            "/content/drive/MyDrive/images/train/pltasique2L/image112.jpg\n",
            "/content/drive/MyDrive/images/train/pltasique2L/image113.jpg\n"
          ]
        }
      ]
    },
    {
      "cell_type": "code",
      "metadata": {
        "colab": {
          "base_uri": "https://localhost:8080/"
        },
        "id": "jREenI5yHG_E",
        "outputId": "d9a8ad99-7314-405a-8436-aca45ce14e4c"
      },
      "source": [
        "len(train_labels)"
      ],
      "execution_count": null,
      "outputs": [
        {
          "output_type": "execute_result",
          "data": {
            "text/plain": [
              "583"
            ]
          },
          "metadata": {},
          "execution_count": 9
        }
      ]
    },
    {
      "cell_type": "code",
      "metadata": {
        "colab": {
          "base_uri": "https://localhost:8080/"
        },
        "id": "CkXNT_RZHKBj",
        "outputId": "da071983-6731-479d-dc67-2e22d8427fe4"
      },
      "source": [
        "len(train_images)"
      ],
      "execution_count": null,
      "outputs": [
        {
          "output_type": "execute_result",
          "data": {
            "text/plain": [
              "583"
            ]
          },
          "metadata": {},
          "execution_count": 10
        }
      ]
    },
    {
      "cell_type": "code",
      "metadata": {
        "id": "3ZbINm-mN47c"
      },
      "source": [
        "#Convert lists to arrays        \n",
        "train_images = np.array(train_images)\n",
        "train_labels = np.array(train_labels)"
      ],
      "execution_count": null,
      "outputs": []
    },
    {
      "cell_type": "code",
      "metadata": {
        "id": "ltLI3zLDMzmk"
      },
      "source": [
        "test_images = []\n",
        "test_labels = [] "
      ],
      "execution_count": null,
      "outputs": []
    },
    {
      "cell_type": "code",
      "metadata": {
        "colab": {
          "base_uri": "https://localhost:8080/"
        },
        "id": "XuOZf0RhLijv",
        "outputId": "a55a9ed0-8215-4b0c-9ddf-c20b143f3147"
      },
      "source": [
        "\n",
        "for directory_path in glob.glob(\"/content/drive/MyDrive/images/test/*\"):\n",
        "    label = directory_path.split(\"/\")[-1]\n",
        "    print(label)\n",
        "    for img_path in glob.glob(os.path.join(directory_path, \"*.jpg\")):\n",
        "        print(img_path)\n",
        "        img = cv2.imread(img_path, cv2.IMREAD_COLOR)\n",
        "        img = cv2.resize(img, (SIZE, SIZE))\n",
        "        img = cv2.cvtColor(img, cv2.COLOR_RGB2BGR)\n",
        "        test_images.append(img)\n",
        "        test_labels.append(label)"
      ],
      "execution_count": null,
      "outputs": [
        {
          "output_type": "stream",
          "name": "stdout",
          "text": [
            "Glass\n",
            "Can\n",
            "/content/drive/MyDrive/images/test/Can/image172.jpg\n",
            "/content/drive/MyDrive/images/test/Can/image174.jpg\n",
            "/content/drive/MyDrive/images/test/Can/image175.jpg\n",
            "/content/drive/MyDrive/images/test/Can/image176.jpg\n",
            "/content/drive/MyDrive/images/test/Can/image177.jpg\n",
            "/content/drive/MyDrive/images/test/Can/image178.jpg\n",
            "/content/drive/MyDrive/images/test/Can/image179.jpg\n",
            "/content/drive/MyDrive/images/test/Can/image180.jpg\n",
            "/content/drive/MyDrive/images/test/Can/image181.jpg\n",
            "/content/drive/MyDrive/images/test/Can/image189.jpg\n",
            "/content/drive/MyDrive/images/test/Can/image200.jpg\n",
            "/content/drive/MyDrive/images/test/Can/image203.jpg\n",
            "/content/drive/MyDrive/images/test/Can/image204.jpg\n",
            "/content/drive/MyDrive/images/test/Can/image205.jpg\n",
            "/content/drive/MyDrive/images/test/Can/image206.jpg\n",
            "/content/drive/MyDrive/images/test/Can/image207.jpg\n",
            "/content/drive/MyDrive/images/test/Can/image208.jpg\n",
            "/content/drive/MyDrive/images/test/Can/image209.jpg\n",
            "/content/drive/MyDrive/images/test/Can/image211.jpg\n",
            "/content/drive/MyDrive/images/test/Can/image214.jpg\n",
            "/content/drive/MyDrive/images/test/Can/image215.jpg\n",
            "/content/drive/MyDrive/images/test/Can/image216.jpg\n",
            "/content/drive/MyDrive/images/test/Can/image217.jpg\n",
            "/content/drive/MyDrive/images/test/Can/image218.jpg\n",
            "plastique1L\n",
            "/content/drive/MyDrive/images/test/plastique1L/image22.jpg\n",
            "plastique1.5L\n",
            "/content/drive/MyDrive/images/test/plastique1.5L/image4.jpg\n",
            "/content/drive/MyDrive/images/test/plastique1.5L/image5.jpg\n",
            "/content/drive/MyDrive/images/test/plastique1.5L/image6.jpg\n",
            "/content/drive/MyDrive/images/test/plastique1.5L/image7.jpg\n",
            "plastique2L\n",
            "/content/drive/MyDrive/images/test/plastique2L/image11.jpg\n",
            "/content/drive/MyDrive/images/test/plastique2L/image15.jpg\n",
            "/content/drive/MyDrive/images/test/plastique2L/image16.jpg\n",
            "/content/drive/MyDrive/images/test/plastique2L/image17.jpg\n",
            "/content/drive/MyDrive/images/test/plastique2L/image18.jpg\n",
            "/content/drive/MyDrive/images/test/plastique2L/image25.jpg\n",
            "/content/drive/MyDrive/images/test/plastique2L/image34.jpg\n",
            "/content/drive/MyDrive/images/test/plastique2L/image36.jpg\n",
            "plastique0.3L\n",
            "plastique0.5L\n",
            "/content/drive/MyDrive/images/test/plastique0.5L/image118.jpg\n",
            "/content/drive/MyDrive/images/test/plastique0.5L/image119.jpg\n",
            "/content/drive/MyDrive/images/test/plastique0.5L/image120.jpg\n",
            "/content/drive/MyDrive/images/test/plastique0.5L/image121.jpg\n",
            "/content/drive/MyDrive/images/test/plastique0.5L/image130.jpg\n",
            "/content/drive/MyDrive/images/test/plastique0.5L/image132.jpg\n",
            "/content/drive/MyDrive/images/test/plastique0.5L/image133.jpg\n",
            "/content/drive/MyDrive/images/test/plastique0.5L/image136.jpg\n",
            "/content/drive/MyDrive/images/test/plastique0.5L/image142.jpg\n",
            "/content/drive/MyDrive/images/test/plastique0.5L/image154.jpg\n",
            "/content/drive/MyDrive/images/test/plastique0.5L/image156.jpg\n",
            "/content/drive/MyDrive/images/test/plastique0.5L/image157.jpg\n",
            "/content/drive/MyDrive/images/test/plastique0.5L/image158.jpg\n"
          ]
        }
      ]
    },
    {
      "cell_type": "code",
      "metadata": {
        "colab": {
          "base_uri": "https://localhost:8080/"
        },
        "id": "G-6KGxT7L99k",
        "outputId": "b9219ab7-219d-4ad6-e5fa-a508a14305f9"
      },
      "source": [
        "for directory_path in glob.glob(\"/content/drive/MyDrive/images/test/*\"):\n",
        "    label = directory_path.split(\"/\")[-1]\n",
        "    print(label)\n",
        "    for img_path in glob.glob(os.path.join(directory_path, \"*.jpeg\")):\n",
        "        print(img_path)\n",
        "        img = cv2.imread(img_path, cv2.IMREAD_COLOR)\n",
        "        img = cv2.resize(img, (SIZE, SIZE))\n",
        "        img = cv2.cvtColor(img, cv2.COLOR_RGB2BGR)\n",
        "        test_images.append(img)\n",
        "        test_labels.append(label)"
      ],
      "execution_count": null,
      "outputs": [
        {
          "output_type": "stream",
          "name": "stdout",
          "text": [
            "Glass\n",
            "/content/drive/MyDrive/images/test/Glass/02_03_2020_14_25_49.jpeg\n",
            "/content/drive/MyDrive/images/test/Glass/02_03_2020_14_26_10.jpeg\n",
            "/content/drive/MyDrive/images/test/Glass/04_04_2020_17_07_42.jpeg\n",
            "/content/drive/MyDrive/images/test/Glass/04_04_2020_17_07_45.jpeg\n",
            "/content/drive/MyDrive/images/test/Glass/04_04_2020_17_08_14.jpeg\n",
            "/content/drive/MyDrive/images/test/Glass/04_04_2020_17_09_26.jpeg\n",
            "/content/drive/MyDrive/images/test/Glass/04_04_2020_17_10_10.jpeg\n",
            "/content/drive/MyDrive/images/test/Glass/04_04_2020_17_09_48.jpeg\n",
            "Can\n",
            "/content/drive/MyDrive/images/test/Can/02_03_2020_15_06_21.jpeg\n",
            "/content/drive/MyDrive/images/test/Can/02_03_2020_15_06_35.jpeg\n",
            "/content/drive/MyDrive/images/test/Can/02_03_2020_15_06_39.jpeg\n",
            "/content/drive/MyDrive/images/test/Can/02_03_2020_15_06_42.jpeg\n",
            "/content/drive/MyDrive/images/test/Can/02_03_2020_15_06_52.jpeg\n",
            "/content/drive/MyDrive/images/test/Can/02_03_2020_15_06_56.jpeg\n",
            "/content/drive/MyDrive/images/test/Can/02_03_2020_15_06_59.jpeg\n",
            "/content/drive/MyDrive/images/test/Can/02_03_2020_15_07_03.jpeg\n",
            "/content/drive/MyDrive/images/test/Can/02_03_2020_15_07_06.jpeg\n",
            "/content/drive/MyDrive/images/test/Can/02_03_2020_15_07_10.jpeg\n",
            "/content/drive/MyDrive/images/test/Can/02_03_2020_15_07_20.jpeg\n",
            "/content/drive/MyDrive/images/test/Can/04_04_2020_17_13_12.jpeg\n",
            "/content/drive/MyDrive/images/test/Can/04_04_2020_17_13_15.jpeg\n",
            "/content/drive/MyDrive/images/test/Can/04_04_2020_17_13_19.jpeg\n",
            "/content/drive/MyDrive/images/test/Can/04_04_2020_17_13_22.jpeg\n",
            "/content/drive/MyDrive/images/test/Can/04_04_2020_17_13_26.jpeg\n",
            "/content/drive/MyDrive/images/test/Can/04_04_2020_17_13_29.jpeg\n",
            "/content/drive/MyDrive/images/test/Can/04_04_2020_17_13_33.jpeg\n",
            "plastique1L\n",
            "/content/drive/MyDrive/images/test/plastique1L/02_03_2020_14_58_24.jpeg\n",
            "/content/drive/MyDrive/images/test/plastique1L/02_03_2020_14_58_27.jpeg\n",
            "/content/drive/MyDrive/images/test/plastique1L/02_03_2020_15_00_45.jpeg\n",
            "/content/drive/MyDrive/images/test/plastique1L/02_03_2020_14_58_17.jpeg\n",
            "/content/drive/MyDrive/images/test/plastique1L/02_03_2020_15_00_49.jpeg\n",
            "/content/drive/MyDrive/images/test/plastique1L/02_03_2020_14_58_20.jpeg\n",
            "/content/drive/MyDrive/images/test/plastique1L/02_03_2020_15_00_52.jpeg\n",
            "/content/drive/MyDrive/images/test/plastique1L/02_03_2020_15_00_56.jpeg\n",
            "/content/drive/MyDrive/images/test/plastique1L/02_03_2020_15_00_59.jpeg\n",
            "/content/drive/MyDrive/images/test/plastique1L/02_03_2020_15_01_40.jpeg\n",
            "/content/drive/MyDrive/images/test/plastique1L/02_03_2020_15_01_06.jpeg\n",
            "/content/drive/MyDrive/images/test/plastique1L/02_03_2020_15_01_43.jpeg\n",
            "/content/drive/MyDrive/images/test/plastique1L/02_03_2020_15_01_10.jpeg\n",
            "/content/drive/MyDrive/images/test/plastique1L/02_03_2020_15_01_47.jpeg\n",
            "/content/drive/MyDrive/images/test/plastique1L/02_03_2020_15_01_13.jpeg\n",
            "/content/drive/MyDrive/images/test/plastique1L/02_03_2020_15_01_50.jpeg\n",
            "/content/drive/MyDrive/images/test/plastique1L/02_03_2020_15_01_29.jpeg\n",
            "/content/drive/MyDrive/images/test/plastique1L/02_03_2020_15_01_36.jpeg\n",
            "/content/drive/MyDrive/images/test/plastique1L/02_03_2020_14_52_28.jpeg\n",
            "/content/drive/MyDrive/images/test/plastique1L/02_03_2020_14_52_32.jpeg\n",
            "/content/drive/MyDrive/images/test/plastique1L/02_03_2020_14_52_35.jpeg\n",
            "/content/drive/MyDrive/images/test/plastique1L/02_03_2020_14_52_39.jpeg\n",
            "/content/drive/MyDrive/images/test/plastique1L/02_03_2020_14_52_42.jpeg\n",
            "/content/drive/MyDrive/images/test/plastique1L/02_03_2020_14_53_13.jpeg\n",
            "/content/drive/MyDrive/images/test/plastique1L/02_03_2020_14_53_16.jpeg\n",
            "/content/drive/MyDrive/images/test/plastique1L/02_03_2020_14_53_20.jpeg\n",
            "/content/drive/MyDrive/images/test/plastique1L/02_03_2020_14_53_23.jpeg\n",
            "/content/drive/MyDrive/images/test/plastique1L/02_03_2020_14_53_27.jpeg\n",
            "plastique1.5L\n",
            "/content/drive/MyDrive/images/test/plastique1.5L/02_03_2020_14_27_21.jpeg\n",
            "/content/drive/MyDrive/images/test/plastique1.5L/02_03_2020_14_30_06.jpeg\n",
            "/content/drive/MyDrive/images/test/plastique1.5L/02_03_2020_14_27_04.jpeg\n",
            "/content/drive/MyDrive/images/test/plastique1.5L/02_03_2020_14_30_09.jpeg\n",
            "/content/drive/MyDrive/images/test/plastique1.5L/02_03_2020_14_27_08.jpeg\n",
            "/content/drive/MyDrive/images/test/plastique1.5L/02_03_2020_14_27_15.jpeg\n",
            "/content/drive/MyDrive/images/test/plastique1.5L/02_03_2020_14_27_11.jpeg\n",
            "/content/drive/MyDrive/images/test/plastique1.5L/02_03_2020_14_27_18.jpeg\n",
            "/content/drive/MyDrive/images/test/plastique1.5L/02_03_2020_14_30_58.jpeg\n",
            "/content/drive/MyDrive/images/test/plastique1.5L/02_03_2020_14_31_01.jpeg\n",
            "/content/drive/MyDrive/images/test/plastique1.5L/02_03_2020_14_31_05.jpeg\n",
            "/content/drive/MyDrive/images/test/plastique1.5L/02_03_2020_14_31_08.jpeg\n",
            "/content/drive/MyDrive/images/test/plastique1.5L/02_03_2020_14_50_06.jpeg\n",
            "/content/drive/MyDrive/images/test/plastique1.5L/02_03_2020_14_50_10.jpeg\n",
            "/content/drive/MyDrive/images/test/plastique1.5L/02_03_2020_14_50_30.jpeg\n",
            "/content/drive/MyDrive/images/test/plastique1.5L/02_03_2020_14_50_33.jpeg\n",
            "/content/drive/MyDrive/images/test/plastique1.5L/02_03_2020_14_50_37.jpeg\n",
            "plastique2L\n",
            "/content/drive/MyDrive/images/test/plastique2L/02_03_2020_14_41_05.jpeg\n",
            "/content/drive/MyDrive/images/test/plastique2L/02_03_2020_14_41_09.jpeg\n",
            "/content/drive/MyDrive/images/test/plastique2L/02_03_2020_14_41_12.jpeg\n",
            "/content/drive/MyDrive/images/test/plastique2L/02_03_2020_14_41_16.jpeg\n",
            "plastique0.3L\n",
            "/content/drive/MyDrive/images/test/plastique0.3L/25_03_2020_00_44_15.jpeg\n",
            "/content/drive/MyDrive/images/test/plastique0.3L/25_03_2020_00_44_31.jpeg\n",
            "/content/drive/MyDrive/images/test/plastique0.3L/25_03_2020_00_44_35.jpeg\n",
            "/content/drive/MyDrive/images/test/plastique0.3L/25_03_2020_00_45_32.jpeg\n",
            "/content/drive/MyDrive/images/test/plastique0.3L/25_03_2020_00_45_36.jpeg\n",
            "/content/drive/MyDrive/images/test/plastique0.3L/25_03_2020_00_45_43.jpeg\n",
            "/content/drive/MyDrive/images/test/plastique0.3L/25_03_2020_00_45_46.jpeg\n",
            "/content/drive/MyDrive/images/test/plastique0.3L/25_03_2020_00_45_50.jpeg\n",
            "plastique0.5L\n",
            "/content/drive/MyDrive/images/test/plastique0.5L/25_03_2020_00_35_43.jpeg\n",
            "/content/drive/MyDrive/images/test/plastique0.5L/25_03_2020_00_35_46.jpeg\n",
            "/content/drive/MyDrive/images/test/plastique0.5L/25_03_2020_00_35_50.jpeg\n",
            "/content/drive/MyDrive/images/test/plastique0.5L/25_03_2020_00_35_53.jpeg\n",
            "/content/drive/MyDrive/images/test/plastique0.5L/25_03_2020_00_35_57.jpeg\n",
            "/content/drive/MyDrive/images/test/plastique0.5L/25_03_2020_00_37_16.jpeg\n",
            "/content/drive/MyDrive/images/test/plastique0.5L/25_03_2020_00_37_40.jpeg\n",
            "/content/drive/MyDrive/images/test/plastique0.5L/25_03_2020_00_38_01.jpeg\n",
            "/content/drive/MyDrive/images/test/plastique0.5L/25_03_2020_00_38_11.jpeg\n",
            "/content/drive/MyDrive/images/test/plastique0.5L/25_03_2020_00_39_01.jpeg\n",
            "/content/drive/MyDrive/images/test/plastique0.5L/25_03_2020_00_39_07.jpeg\n"
          ]
        }
      ]
    },
    {
      "cell_type": "code",
      "metadata": {
        "colab": {
          "base_uri": "https://localhost:8080/"
        },
        "id": "fMR_7jkGL_xA",
        "outputId": "6cd89760-e1aa-4719-baaf-852116ae7223"
      },
      "source": [
        "len(test_labels)"
      ],
      "execution_count": null,
      "outputs": [
        {
          "output_type": "execute_result",
          "data": {
            "text/plain": [
              "144"
            ]
          },
          "metadata": {},
          "execution_count": 15
        }
      ]
    },
    {
      "cell_type": "code",
      "metadata": {
        "colab": {
          "base_uri": "https://localhost:8080/"
        },
        "id": "toUFm4caMtAg",
        "outputId": "dbe8b7e1-84d1-4e39-9141-7de126bfc31a"
      },
      "source": [
        "len(test_images)"
      ],
      "execution_count": null,
      "outputs": [
        {
          "output_type": "execute_result",
          "data": {
            "text/plain": [
              "144"
            ]
          },
          "metadata": {},
          "execution_count": 16
        }
      ]
    },
    {
      "cell_type": "code",
      "metadata": {
        "id": "L5vgx-SMNIfz"
      },
      "source": [
        "#Convert lists to arrays                \n",
        "test_images = np.array(test_images)\n",
        "test_labels = np.array(test_labels)"
      ],
      "execution_count": null,
      "outputs": []
    },
    {
      "cell_type": "code",
      "metadata": {
        "id": "IMMG_OPYNlVQ"
      },
      "source": [
        "#Encode labels from text to integers.\n",
        "from sklearn import preprocessing\n",
        "le = preprocessing.LabelEncoder()\n",
        "le.fit(test_labels)\n",
        "test_labels_encoded = le.transform(test_labels)\n",
        "le.fit(train_labels)\n",
        "train_labels_encoded = le.transform(train_labels)"
      ],
      "execution_count": null,
      "outputs": []
    },
    {
      "cell_type": "code",
      "metadata": {
        "id": "-uQ1xkwlOGUq"
      },
      "source": [
        "#Split data into test and train datasets (already split but assigning to meaningful convention)\n",
        "x_train, y_train, x_test, y_test = train_images, train_labels_encoded, test_images, test_labels_encoded"
      ],
      "execution_count": null,
      "outputs": []
    },
    {
      "cell_type": "code",
      "metadata": {
        "id": "8w9PQA9COdxA"
      },
      "source": [
        "# Normalize pixel values to between 0 and 1\n",
        "x_train, x_test = x_train / 255.0, x_test / 255.0"
      ],
      "execution_count": null,
      "outputs": []
    },
    {
      "cell_type": "code",
      "metadata": {
        "id": "2apv0GRROgg4",
        "colab": {
          "base_uri": "https://localhost:8080/"
        },
        "outputId": "0aff210d-3ed8-46dd-9fed-98ed59ecbac9"
      },
      "source": [
        "#Load a trained model to use its feautures\n",
        "VGG_model = VGG16(weights='imagenet', include_top=False, input_shape=(SIZE, SIZE, 3))"
      ],
      "execution_count": null,
      "outputs": [
        {
          "output_type": "stream",
          "name": "stdout",
          "text": [
            "Downloading data from https://storage.googleapis.com/tensorflow/keras-applications/vgg16/vgg16_weights_tf_dim_ordering_tf_kernels_notop.h5\n",
            "58892288/58889256 [==============================] - 1s 0us/step\n",
            "58900480/58889256 [==============================] - 1s 0us/step\n"
          ]
        }
      ]
    },
    {
      "cell_type": "code",
      "metadata": {
        "id": "rEnvWrEIOmkT"
      },
      "source": [
        "#Make loaded layers as non-trainable. This is important as we want to work with pre-trained weights\n",
        "for layer in VGG_model.layers:\n",
        "\tlayer.trainable = False"
      ],
      "execution_count": null,
      "outputs": []
    },
    {
      "cell_type": "code",
      "metadata": {
        "id": "uVcwJqkVSEaD"
      },
      "source": [
        ""
      ],
      "execution_count": null,
      "outputs": []
    },
    {
      "cell_type": "code",
      "metadata": {
        "id": "QFox0sJKOowG"
      },
      "source": [
        "#Now, let us use features from convolutional network \n",
        "feature_extractor=VGG_model.predict(x_train)\n"
      ],
      "execution_count": null,
      "outputs": []
    },
    {
      "cell_type": "code",
      "metadata": {
        "id": "2SeWX2IbTCC3"
      },
      "source": [
        ""
      ],
      "execution_count": null,
      "outputs": []
    },
    {
      "cell_type": "code",
      "metadata": {
        "colab": {
          "base_uri": "https://localhost:8080/"
        },
        "id": "dDpLNooDTCF-",
        "outputId": "0d238d44-cc9d-4cbb-a57d-66d2beff2ac0"
      },
      "source": [
        "feature_extractor.shape"
      ],
      "execution_count": null,
      "outputs": [
        {
          "output_type": "execute_result",
          "data": {
            "text/plain": [
              "(583, 8, 8, 512)"
            ]
          },
          "metadata": {},
          "execution_count": 24
        }
      ]
    },
    {
      "cell_type": "code",
      "metadata": {
        "id": "ltPQWU0MO0DJ"
      },
      "source": [
        "features = feature_extractor.reshape(feature_extractor.shape[0], -1)"
      ],
      "execution_count": null,
      "outputs": []
    },
    {
      "cell_type": "code",
      "metadata": {
        "id": "N3hmV6vOTfmK",
        "colab": {
          "base_uri": "https://localhost:8080/"
        },
        "outputId": "4b5312ad-fa59-46bf-fb87-1330558013eb"
      },
      "source": [
        "features.shape"
      ],
      "execution_count": null,
      "outputs": [
        {
          "output_type": "execute_result",
          "data": {
            "text/plain": [
              "(583, 32768)"
            ]
          },
          "metadata": {},
          "execution_count": 26
        }
      ]
    },
    {
      "cell_type": "code",
      "metadata": {
        "id": "TPxvE_ERPGDg"
      },
      "source": [
        "X_for_training = features"
      ],
      "execution_count": null,
      "outputs": []
    },
    {
      "cell_type": "markdown",
      "metadata": {
        "id": "N7E_Zs-KvOQM"
      },
      "source": [
        "# **Modeling**"
      ]
    },
    {
      "cell_type": "markdown",
      "metadata": {
        "id": "hUh7fpI0GcQW"
      },
      "source": [
        "## **XGBoost**"
      ]
    },
    {
      "cell_type": "code",
      "metadata": {
        "id": "Q3nBYpCQJf8h"
      },
      "source": [
        "import xgboost as xgb\n",
        "from sklearn.model_selection import RandomizedSearchCV, GridSearchCV\n",
        "from sklearn.metrics import roc_auc_score"
      ],
      "execution_count": null,
      "outputs": []
    },
    {
      "cell_type": "markdown",
      "metadata": {
        "id": "pijvNaLE3iB4"
      },
      "source": [
        "**hyperparameter tuning using grid search**"
      ]
    },
    {
      "cell_type": "code",
      "metadata": {
        "id": "1ey9tjwQHgMC"
      },
      "source": [
        "# A parameter grid for XGBoost\n",
        "params = {\n",
        "        'min_child_weight': [1, 5, 10],\n",
        "        'gamma': [0.5, 1, 1.5, 2, 5],\n",
        "        'subsample': [0.6, 0.8, 1.0],\n",
        "        'colsample_bytree': [0.6, 0.8, 1.0],\n",
        "        'max_depth': [3, 4, 5]\n",
        "        }"
      ],
      "execution_count": null,
      "outputs": []
    },
    {
      "cell_type": "code",
      "metadata": {
        "id": "x_makhQGISHx"
      },
      "source": [
        "xgb_model = xgb.XGBClassifier()"
      ],
      "execution_count": null,
      "outputs": []
    },
    {
      "cell_type": "code",
      "metadata": {
        "id": "o2ZkuDXmHgO1"
      },
      "source": [
        "random_search = RandomizedSearchCV(xgb_model, param_distributions=params, n_iter=5)"
      ],
      "execution_count": null,
      "outputs": []
    },
    {
      "cell_type": "code",
      "metadata": {
        "colab": {
          "base_uri": "https://localhost:8080/"
        },
        "id": "ziGH6cUUHgSu",
        "outputId": "92fd99d9-f462-4801-bb4f-0d872cab9264"
      },
      "source": [
        "random_search.fit(X_for_training, y_train) "
      ],
      "execution_count": null,
      "outputs": [
        {
          "output_type": "execute_result",
          "data": {
            "text/plain": [
              "RandomizedSearchCV(cv=None, error_score=nan,\n",
              "                   estimator=XGBClassifier(base_score=0.5, booster='gbtree',\n",
              "                                           colsample_bylevel=1,\n",
              "                                           colsample_bynode=1,\n",
              "                                           colsample_bytree=1, gamma=0,\n",
              "                                           learning_rate=0.1, max_delta_step=0,\n",
              "                                           max_depth=3, min_child_weight=1,\n",
              "                                           missing=None, n_estimators=100,\n",
              "                                           n_jobs=1, nthread=None,\n",
              "                                           objective='binary:logistic',\n",
              "                                           random_state=0, reg_alpha=0,\n",
              "                                           reg_lambda=1...s_weight=1,\n",
              "                                           seed=None, silent=None, subsample=1,\n",
              "                                           verbosity=1),\n",
              "                   iid='deprecated', n_iter=5, n_jobs=None,\n",
              "                   param_distributions={'colsample_bytree': [0.6, 0.8, 1.0],\n",
              "                                        'gamma': [0.5, 1, 1.5, 2, 5],\n",
              "                                        'max_depth': [3, 4, 5],\n",
              "                                        'min_child_weight': [1, 5, 10],\n",
              "                                        'subsample': [0.6, 0.8, 1.0]},\n",
              "                   pre_dispatch='2*n_jobs', random_state=None, refit=True,\n",
              "                   return_train_score=False, scoring=None, verbose=0)"
            ]
          },
          "metadata": {},
          "execution_count": 33
        }
      ]
    },
    {
      "cell_type": "code",
      "metadata": {
        "colab": {
          "base_uri": "https://localhost:8080/"
        },
        "id": "pWkxAyFVK6rp",
        "outputId": "d9c3c44d-6eef-4a55-8ec8-d766d2e9c0ed"
      },
      "source": [
        "print('\\n Best hyperparameters:')\n",
        "print(random_search.best_params_)"
      ],
      "execution_count": null,
      "outputs": [
        {
          "output_type": "stream",
          "name": "stdout",
          "text": [
            "\n",
            " Best hyperparameters:\n",
            "{'subsample': 0.6, 'min_child_weight': 5, 'max_depth': 5, 'gamma': 1, 'colsample_bytree': 1.0}\n"
          ]
        }
      ]
    },
    {
      "cell_type": "code",
      "metadata": {
        "id": "EtWlKF2JK6uI"
      },
      "source": [
        ""
      ],
      "execution_count": null,
      "outputs": []
    },
    {
      "cell_type": "code",
      "metadata": {
        "id": "gYHc05zJK6x0"
      },
      "source": [
        ""
      ],
      "execution_count": null,
      "outputs": []
    },
    {
      "cell_type": "markdown",
      "metadata": {
        "id": "vg7tpBXb5A4z"
      },
      "source": [
        "**Model training**"
      ]
    },
    {
      "cell_type": "code",
      "metadata": {
        "id": "n3YB-t43K6zb"
      },
      "source": [
        ""
      ],
      "execution_count": null,
      "outputs": []
    },
    {
      "cell_type": "code",
      "metadata": {
        "id": "6K8MU3Z2PPiF",
        "colab": {
          "base_uri": "https://localhost:8080/"
        },
        "outputId": "7197e4e5-29a1-4b56-f6ea-7777a5c8f06b"
      },
      "source": [
        "\n",
        "model = xgb.XGBClassifier(subsample=0.6,min_child_weight=5,gamma=1,colsample_bytree=1)\n",
        "print(\"'Début de l'entrainement :   \",datetime.now().strftime(\"%H:%M:%S\"))\n",
        "model.fit(X_for_training, y_train) \n",
        "print(\"'Fin de l'entrainement :   \",datetime.now().strftime(\"%H:%M:%S\"))"
      ],
      "execution_count": null,
      "outputs": [
        {
          "output_type": "stream",
          "name": "stdout",
          "text": [
            "'Début de l'entrainement :    16:23:45\n",
            "'Fin de l'entrainement :    16:27:49\n"
          ]
        }
      ]
    },
    {
      "cell_type": "code",
      "metadata": {
        "id": "cLn4seXnPe2r"
      },
      "source": [
        "#Send test data through same feature extractor process\n",
        "X_test_feature = VGG_model.predict(x_test)\n",
        "X_test_features = X_test_feature.reshape(X_test_feature.shape[0], -1)"
      ],
      "execution_count": null,
      "outputs": []
    },
    {
      "cell_type": "code",
      "metadata": {
        "id": "jbrPCJvsPkMC",
        "colab": {
          "base_uri": "https://localhost:8080/"
        },
        "outputId": "dba019e2-04c5-4b9e-b61d-a67bfeb1ce6a"
      },
      "source": [
        "#Now predict using the trained RF model. \n",
        "print(\"'Début de la classification :   \",datetime.now().strftime(\"%H:%M:%S\"))\n",
        "prediction = model.predict(X_test_features)\n",
        "print(\"'Fin de la classification :   \",datetime.now().strftime(\"%H:%M:%S\"))\n",
        "#Inverse le transform to get original label back. \n",
        "prediction = le.inverse_transform(prediction)"
      ],
      "execution_count": null,
      "outputs": [
        {
          "output_type": "stream",
          "name": "stdout",
          "text": [
            "'Début de la classification :    16:36:03\n",
            "'Fin de la classification :    16:36:03\n"
          ]
        }
      ]
    },
    {
      "cell_type": "code",
      "metadata": {
        "id": "RYFjcqnJ5MiD"
      },
      "source": [
        ""
      ],
      "execution_count": null,
      "outputs": []
    },
    {
      "cell_type": "code",
      "metadata": {
        "id": "C0g_O3RzPqaq",
        "colab": {
          "base_uri": "https://localhost:8080/"
        },
        "outputId": "97445b29-5588-4f95-a7dc-15f7eb49c6bb"
      },
      "source": [
        "#Print overall accuracy\n",
        "from sklearn import metrics\n",
        "print (\"Accuracy = \", metrics.accuracy_score(test_labels, prediction))"
      ],
      "execution_count": null,
      "outputs": [
        {
          "output_type": "stream",
          "name": "stdout",
          "text": [
            "Accuracy =  0.9097222222222222\n"
          ]
        }
      ]
    },
    {
      "cell_type": "code",
      "metadata": {
        "id": "TyPb0VltPxpw",
        "colab": {
          "base_uri": "https://localhost:8080/",
          "height": 303
        },
        "outputId": "a57c4c64-ff5d-4c76-ffa2-4ac84b7f2e38"
      },
      "source": [
        "#Check results on a few select images\n",
        "n=np.random.randint(0, x_test.shape[0])\n",
        "img = x_test[n]\n",
        "plt.imshow(img)\n",
        "input_img = np.expand_dims(img, axis=0) #Expand dims so the input is (num images, x, y, c)\n",
        "input_img_feature=VGG_model.predict(input_img)\n",
        "input_img_features=input_img_feature.reshape(input_img_feature.shape[0], -1)\n",
        "prediction = model.predict(input_img_features)[0] \n",
        "prediction = le.inverse_transform([prediction])  #Reverse the label encoder to original name\n",
        "print(\"The prediction for this image is: \", prediction)\n",
        "print(\"The actual label for this image is: \", test_labels[n])"
      ],
      "execution_count": null,
      "outputs": [
        {
          "output_type": "stream",
          "name": "stdout",
          "text": [
            "The prediction for this image is:  ['plastique1L']\n",
            "The actual label for this image is:  plastique1L\n"
          ]
        },
        {
          "output_type": "display_data",
          "data": {
            "image/png": "[encoded data removed]",
            "text/plain": [
              "<Figure size 432x288 with 1 Axes>"
            ]
          },
          "metadata": {
            "needs_background": "light"
          }
        }
      ]
    },
    {
      "cell_type": "code",
      "metadata": {
        "id": "rQ5TrKR_WYdY"
      },
      "source": [
        ""
      ],
      "execution_count": null,
      "outputs": []
    },
    {
      "cell_type": "markdown",
      "metadata": {
        "id": "gwj-KKg0cOrs"
      },
      "source": [
        "## **RANDOM FOREST**"
      ]
    },
    {
      "cell_type": "code",
      "metadata": {
        "id": "Rqegd2lDrUAa"
      },
      "source": [
        "from sklearn.ensemble import RandomForestClassifier"
      ],
      "execution_count": null,
      "outputs": []
    },
    {
      "cell_type": "markdown",
      "metadata": {
        "id": "jWRX-b635hbe"
      },
      "source": [
        "**hyperparameter tuning using grid search**"
      ]
    },
    {
      "cell_type": "code",
      "metadata": {
        "id": "UYkfe-JVkbkc"
      },
      "source": [
        "\n",
        "param_grid = { \n",
        "    'n_estimators': [200, 500],\n",
        "    'max_features': ['auto', 'sqrt', 'log2'],\n",
        "    'max_depth' : [4,5,6,7,8],\n",
        "    'criterion' :['gini', 'entropy']\n",
        "}"
      ],
      "execution_count": null,
      "outputs": []
    },
    {
      "cell_type": "code",
      "metadata": {
        "colab": {
          "base_uri": "https://localhost:8080/"
        },
        "id": "k_24bTCrkbo8",
        "outputId": "c33334dd-f3be-412d-8e58-369d2472b2fb"
      },
      "source": [
        "rfc=RandomForestClassifier()\n",
        "CV_rfc = GridSearchCV(estimator=rfc, param_grid=param_grid, cv= 5)\n",
        "CV_rfc.fit(X_for_training, y_train)\n"
      ],
      "execution_count": null,
      "outputs": [
        {
          "output_type": "execute_result",
          "data": {
            "text/plain": [
              "GridSearchCV(cv=5, error_score=nan,\n",
              "             estimator=RandomForestClassifier(bootstrap=True, ccp_alpha=0.0,\n",
              "                                              class_weight=None,\n",
              "                                              criterion='gini', max_depth=None,\n",
              "                                              max_features='auto',\n",
              "                                              max_leaf_nodes=None,\n",
              "                                              max_samples=None,\n",
              "                                              min_impurity_decrease=0.0,\n",
              "                                              min_impurity_split=None,\n",
              "                                              min_samples_leaf=1,\n",
              "                                              min_samples_split=2,\n",
              "                                              min_weight_fraction_leaf=0.0,\n",
              "                                              n_estimators=100, n_jobs=None,\n",
              "                                              oob_score=False,\n",
              "                                              random_state=None, verbose=0,\n",
              "                                              warm_start=False),\n",
              "             iid='deprecated', n_jobs=None,\n",
              "             param_grid={'criterion': ['gini', 'entropy'],\n",
              "                         'max_depth': [4, 5, 6, 7, 8],\n",
              "                         'max_features': ['auto', 'sqrt', 'log2'],\n",
              "                         'n_estimators': [200, 500]},\n",
              "             pre_dispatch='2*n_jobs', refit=True, return_train_score=False,\n",
              "             scoring=None, verbose=0)"
            ]
          },
          "metadata": {},
          "execution_count": 46
        }
      ]
    },
    {
      "cell_type": "code",
      "metadata": {
        "colab": {
          "base_uri": "https://localhost:8080/"
        },
        "id": "EZ0Qv46brZLR",
        "outputId": "7182a616-30dd-4ac5-8cdd-d7cf6a23d04c"
      },
      "source": [
        "print('\\n Best hyperparameters:')\n",
        "print(CV_rfc.best_params_)"
      ],
      "execution_count": null,
      "outputs": [
        {
          "output_type": "stream",
          "name": "stdout",
          "text": [
            "\n",
            " Best hyperparameters:\n",
            "{'criterion': 'entropy', 'max_depth': 8, 'max_features': 'log2', 'n_estimators': 500}\n"
          ]
        }
      ]
    },
    {
      "cell_type": "code",
      "metadata": {
        "id": "9joXJouAkbtx"
      },
      "source": [
        ""
      ],
      "execution_count": null,
      "outputs": []
    },
    {
      "cell_type": "markdown",
      "metadata": {
        "id": "7zUqXzC75lR2"
      },
      "source": [
        "**Model training**"
      ]
    },
    {
      "cell_type": "code",
      "metadata": {
        "id": "C4jZx_HdcP3L"
      },
      "source": [
        "\n",
        "RF_model = RandomForestClassifier(n_estimators = 500,max_features='log2',max_depth=8,criterion='entropy')"
      ],
      "execution_count": null,
      "outputs": []
    },
    {
      "cell_type": "code",
      "metadata": {
        "colab": {
          "base_uri": "https://localhost:8080/"
        },
        "id": "0j6mM2QNlAbn",
        "outputId": "e6d6534c-17ca-4213-b5f4-21681f5a2a7f"
      },
      "source": [
        "# Train the model on training data\n",
        "print(\"'Début de l'entrainement :   \",datetime.now().strftime(\"%H:%M:%S\"))\n",
        "RF_model.fit(X_for_training, y_train) #For sklearn no one hot encoding\n",
        "print(\"'Fin de l'entrainement :   \",datetime.now().strftime(\"%H:%M:%S\"))"
      ],
      "execution_count": null,
      "outputs": [
        {
          "output_type": "stream",
          "name": "stdout",
          "text": [
            "'Début de l'entrainement :    16:30:21\n",
            "'Fin de l'entrainement :    16:30:23\n"
          ]
        }
      ]
    },
    {
      "cell_type": "code",
      "metadata": {
        "id": "-6HL1ouNlAfE"
      },
      "source": [
        "#Send test data through same feature extractor process\n",
        "X_test_feature = VGG_model.predict(x_test)\n",
        "X_test_features = X_test_feature.reshape(X_test_feature.shape[0], -1)"
      ],
      "execution_count": null,
      "outputs": []
    },
    {
      "cell_type": "code",
      "metadata": {
        "id": "UdUDIRMRlAkd",
        "colab": {
          "base_uri": "https://localhost:8080/"
        },
        "outputId": "8e93eae1-aa09-488c-8057-4cc9446a376e"
      },
      "source": [
        "#Now predict using the trained RF model. \n",
        "print(\"'Début de la classification :   \",datetime.now().strftime(\"%H:%M:%S\"))\n",
        "prediction_RF = RF_model.predict(X_test_features)\n",
        "print(\"'Fin de la classification :   \",datetime.now().strftime(\"%H:%M:%S\"))\n",
        "#Inverse le transform to get original label back. \n",
        "prediction_RF = le.inverse_transform(prediction_RF)\n"
      ],
      "execution_count": null,
      "outputs": [
        {
          "output_type": "stream",
          "name": "stdout",
          "text": [
            "'Début de la classification :    16:34:22\n",
            "'Fin de la classification :    16:34:23\n"
          ]
        }
      ]
    },
    {
      "cell_type": "code",
      "metadata": {
        "colab": {
          "base_uri": "https://localhost:8080/"
        },
        "id": "6-fw9TgElZcF",
        "outputId": "666d7081-0560-4d8a-cd6f-6860e1b1bafd"
      },
      "source": [
        "#Print overall accuracy\n",
        "from sklearn import metrics\n",
        "print (\"Accuracy = \", metrics.accuracy_score(test_labels, prediction_RF))"
      ],
      "execution_count": null,
      "outputs": [
        {
          "output_type": "stream",
          "name": "stdout",
          "text": [
            "Accuracy =  0.9027777777777778\n"
          ]
        }
      ]
    },
    {
      "cell_type": "code",
      "metadata": {
        "colab": {
          "base_uri": "https://localhost:8080/",
          "height": 303
        },
        "id": "G5P7iZrFlh1S",
        "outputId": "82ed10be-e2cc-4bd0-8d98-7ba160ddf839"
      },
      "source": [
        "#Check results on a few select images\n",
        "n=np.random.randint(0, x_test.shape[0])\n",
        "img = x_test[n]\n",
        "plt.imshow(img)\n",
        "input_img = np.expand_dims(img, axis=0) #Expand dims so the input is (num images, x, y, c)\n",
        "input_img_feature=VGG_model.predict(input_img)\n",
        "input_img_features=input_img_feature.reshape(input_img_feature.shape[0], -1)\n",
        "prediction_RF = RF_model.predict(input_img_features)[0] \n",
        "prediction_RF = le.inverse_transform([prediction_RF])  #Reverse the label encoder to original name\n",
        "print(\"The prediction for this image is: \", prediction_RF)\n",
        "print(\"The actual label for this image is: \", test_labels[n])"
      ],
      "execution_count": null,
      "outputs": [
        {
          "output_type": "stream",
          "name": "stdout",
          "text": [
            "The prediction for this image is:  ['plastique1L']\n",
            "The actual label for this image is:  plastique1L\n"
          ]
        },
        {
          "output_type": "display_data",
          "data": {
            "image/png": "[encoded data removed]",
            "text/plain": [
              "<Figure size 432x288 with 1 Axes>"
            ]
          },
          "metadata": {
            "needs_background": "light"
          }
        }
      ]
    },
    {
      "cell_type": "markdown",
      "metadata": {
        "id": "epGjuiTqKJpP"
      },
      "source": [
        "# **Logistic regression**"
      ]
    },
    {
      "cell_type": "code",
      "metadata": {
        "id": "48wG56RRxfwv"
      },
      "source": [
        "from sklearn.linear_model import LogisticRegression"
      ],
      "execution_count": null,
      "outputs": []
    },
    {
      "cell_type": "markdown",
      "metadata": {
        "id": "hOZsUBcs5qcG"
      },
      "source": [
        "**hyperparameter tuning using grid search**"
      ]
    },
    {
      "cell_type": "code",
      "metadata": {
        "id": "L5gjXw_VxfzG"
      },
      "source": [
        "grid={\"C\":np.logspace(-3,3,7), \"penalty\":[\"l1\",\"l2\"]}"
      ],
      "execution_count": null,
      "outputs": []
    },
    {
      "cell_type": "code",
      "metadata": {
        "colab": {
          "base_uri": "https://localhost:8080/"
        },
        "id": "F-B-Y8oExf92",
        "outputId": "2c4af211-c568-4d32-841f-eeebd4afa9a1"
      },
      "source": [
        "log_reg=LogisticRegression()\n",
        "logreg_cv=GridSearchCV(log_reg,grid)\n",
        "logreg_cv.fit(X_for_training, y_train)"
      ],
      "execution_count": null,
      "outputs": [
        {
          "output_type": "stream",
          "name": "stderr",
          "text": [
            "/usr/local/lib/python3.7/dist-packages/sklearn/model_selection/_validation.py:536: FitFailedWarning: Estimator fit failed. The score on this train-test partition for these parameters will be set to nan. Details: \n",
            "ValueError: Solver lbfgs supports only 'l2' or 'none' penalties, got l1 penalty.\n",
            "\n",
            "  FitFailedWarning)\n",
            "/usr/local/lib/python3.7/dist-packages/sklearn/linear_model/_logistic.py:940: ConvergenceWarning: lbfgs failed to converge (status=1):\n",
            "STOP: TOTAL NO. of ITERATIONS REACHED LIMIT.\n",
            "\n",
            "Increase the number of iterations (max_iter) or scale the data as shown in:\n",
            "    https://scikit-learn.org/stable/modules/preprocessing.html\n",
            "Please also refer to the documentation for alternative solver options:\n",
            "    https://scikit-learn.org/stable/modules/linear_model.html#logistic-regression\n",
            "  extra_warning_msg=_LOGISTIC_SOLVER_CONVERGENCE_MSG)\n",
            "/usr/local/lib/python3.7/dist-packages/sklearn/linear_model/_logistic.py:940: ConvergenceWarning: lbfgs failed to converge (status=1):\n",
            "STOP: TOTAL NO. of ITERATIONS REACHED LIMIT.\n",
            "\n",
            "Increase the number of iterations (max_iter) or scale the data as shown in:\n",
            "    https://scikit-learn.org/stable/modules/preprocessing.html\n",
            "Please also refer to the documentation for alternative solver options:\n",
            "    https://scikit-learn.org/stable/modules/linear_model.html#logistic-regression\n",
            "  extra_warning_msg=_LOGISTIC_SOLVER_CONVERGENCE_MSG)\n",
            "/usr/local/lib/python3.7/dist-packages/sklearn/linear_model/_logistic.py:940: ConvergenceWarning: lbfgs failed to converge (status=1):\n",
            "STOP: TOTAL NO. of ITERATIONS REACHED LIMIT.\n",
            "\n",
            "Increase the number of iterations (max_iter) or scale the data as shown in:\n",
            "    https://scikit-learn.org/stable/modules/preprocessing.html\n",
            "Please also refer to the documentation for alternative solver options:\n",
            "    https://scikit-learn.org/stable/modules/linear_model.html#logistic-regression\n",
            "  extra_warning_msg=_LOGISTIC_SOLVER_CONVERGENCE_MSG)\n",
            "/usr/local/lib/python3.7/dist-packages/sklearn/linear_model/_logistic.py:940: ConvergenceWarning: lbfgs failed to converge (status=1):\n",
            "STOP: TOTAL NO. of ITERATIONS REACHED LIMIT.\n",
            "\n",
            "Increase the number of iterations (max_iter) or scale the data as shown in:\n",
            "    https://scikit-learn.org/stable/modules/preprocessing.html\n",
            "Please also refer to the documentation for alternative solver options:\n",
            "    https://scikit-learn.org/stable/modules/linear_model.html#logistic-regression\n",
            "  extra_warning_msg=_LOGISTIC_SOLVER_CONVERGENCE_MSG)\n",
            "/usr/local/lib/python3.7/dist-packages/sklearn/linear_model/_logistic.py:940: ConvergenceWarning: lbfgs failed to converge (status=1):\n",
            "STOP: TOTAL NO. of ITERATIONS REACHED LIMIT.\n",
            "\n",
            "Increase the number of iterations (max_iter) or scale the data as shown in:\n",
            "    https://scikit-learn.org/stable/modules/preprocessing.html\n",
            "Please also refer to the documentation for alternative solver options:\n",
            "    https://scikit-learn.org/stable/modules/linear_model.html#logistic-regression\n",
            "  extra_warning_msg=_LOGISTIC_SOLVER_CONVERGENCE_MSG)\n",
            "/usr/local/lib/python3.7/dist-packages/sklearn/model_selection/_validation.py:536: FitFailedWarning: Estimator fit failed. The score on this train-test partition for these parameters will be set to nan. Details: \n",
            "ValueError: Solver lbfgs supports only 'l2' or 'none' penalties, got l1 penalty.\n",
            "\n",
            "  FitFailedWarning)\n",
            "/usr/local/lib/python3.7/dist-packages/sklearn/linear_model/_logistic.py:940: ConvergenceWarning: lbfgs failed to converge (status=1):\n",
            "STOP: TOTAL NO. of ITERATIONS REACHED LIMIT.\n",
            "\n",
            "Increase the number of iterations (max_iter) or scale the data as shown in:\n",
            "    https://scikit-learn.org/stable/modules/preprocessing.html\n",
            "Please also refer to the documentation for alternative solver options:\n",
            "    https://scikit-learn.org/stable/modules/linear_model.html#logistic-regression\n",
            "  extra_warning_msg=_LOGISTIC_SOLVER_CONVERGENCE_MSG)\n",
            "/usr/local/lib/python3.7/dist-packages/sklearn/linear_model/_logistic.py:940: ConvergenceWarning: lbfgs failed to converge (status=1):\n",
            "STOP: TOTAL NO. of ITERATIONS REACHED LIMIT.\n",
            "\n",
            "Increase the number of iterations (max_iter) or scale the data as shown in:\n",
            "    https://scikit-learn.org/stable/modules/preprocessing.html\n",
            "Please also refer to the documentation for alternative solver options:\n",
            "    https://scikit-learn.org/stable/modules/linear_model.html#logistic-regression\n",
            "  extra_warning_msg=_LOGISTIC_SOLVER_CONVERGENCE_MSG)\n",
            "/usr/local/lib/python3.7/dist-packages/sklearn/linear_model/_logistic.py:940: ConvergenceWarning: lbfgs failed to converge (status=1):\n",
            "STOP: TOTAL NO. of ITERATIONS REACHED LIMIT.\n",
            "\n",
            "Increase the number of iterations (max_iter) or scale the data as shown in:\n",
            "    https://scikit-learn.org/stable/modules/preprocessing.html\n",
            "Please also refer to the documentation for alternative solver options:\n",
            "    https://scikit-learn.org/stable/modules/linear_model.html#logistic-regression\n",
            "  extra_warning_msg=_LOGISTIC_SOLVER_CONVERGENCE_MSG)\n",
            "/usr/local/lib/python3.7/dist-packages/sklearn/linear_model/_logistic.py:940: ConvergenceWarning: lbfgs failed to converge (status=1):\n",
            "STOP: TOTAL NO. of ITERATIONS REACHED LIMIT.\n",
            "\n",
            "Increase the number of iterations (max_iter) or scale the data as shown in:\n",
            "    https://scikit-learn.org/stable/modules/preprocessing.html\n",
            "Please also refer to the documentation for alternative solver options:\n",
            "    https://scikit-learn.org/stable/modules/linear_model.html#logistic-regression\n",
            "  extra_warning_msg=_LOGISTIC_SOLVER_CONVERGENCE_MSG)\n",
            "/usr/local/lib/python3.7/dist-packages/sklearn/linear_model/_logistic.py:940: ConvergenceWarning: lbfgs failed to converge (status=1):\n",
            "STOP: TOTAL NO. of ITERATIONS REACHED LIMIT.\n",
            "\n",
            "Increase the number of iterations (max_iter) or scale the data as shown in:\n",
            "    https://scikit-learn.org/stable/modules/preprocessing.html\n",
            "Please also refer to the documentation for alternative solver options:\n",
            "    https://scikit-learn.org/stable/modules/linear_model.html#logistic-regression\n",
            "  extra_warning_msg=_LOGISTIC_SOLVER_CONVERGENCE_MSG)\n",
            "/usr/local/lib/python3.7/dist-packages/sklearn/model_selection/_validation.py:536: FitFailedWarning: Estimator fit failed. The score on this train-test partition for these parameters will be set to nan. Details: \n",
            "ValueError: Solver lbfgs supports only 'l2' or 'none' penalties, got l1 penalty.\n",
            "\n",
            "  FitFailedWarning)\n",
            "/usr/local/lib/python3.7/dist-packages/sklearn/linear_model/_logistic.py:940: ConvergenceWarning: lbfgs failed to converge (status=1):\n",
            "STOP: TOTAL NO. of ITERATIONS REACHED LIMIT.\n",
            "\n",
            "Increase the number of iterations (max_iter) or scale the data as shown in:\n",
            "    https://scikit-learn.org/stable/modules/preprocessing.html\n",
            "Please also refer to the documentation for alternative solver options:\n",
            "    https://scikit-learn.org/stable/modules/linear_model.html#logistic-regression\n",
            "  extra_warning_msg=_LOGISTIC_SOLVER_CONVERGENCE_MSG)\n",
            "/usr/local/lib/python3.7/dist-packages/sklearn/linear_model/_logistic.py:940: ConvergenceWarning: lbfgs failed to converge (status=1):\n",
            "STOP: TOTAL NO. of ITERATIONS REACHED LIMIT.\n",
            "\n",
            "Increase the number of iterations (max_iter) or scale the data as shown in:\n",
            "    https://scikit-learn.org/stable/modules/preprocessing.html\n",
            "Please also refer to the documentation for alternative solver options:\n",
            "    https://scikit-learn.org/stable/modules/linear_model.html#logistic-regression\n",
            "  extra_warning_msg=_LOGISTIC_SOLVER_CONVERGENCE_MSG)\n",
            "/usr/local/lib/python3.7/dist-packages/sklearn/linear_model/_logistic.py:940: ConvergenceWarning: lbfgs failed to converge (status=1):\n",
            "STOP: TOTAL NO. of ITERATIONS REACHED LIMIT.\n",
            "\n",
            "Increase the number of iterations (max_iter) or scale the data as shown in:\n",
            "    https://scikit-learn.org/stable/modules/preprocessing.html\n",
            "Please also refer to the documentation for alternative solver options:\n",
            "    https://scikit-learn.org/stable/modules/linear_model.html#logistic-regression\n",
            "  extra_warning_msg=_LOGISTIC_SOLVER_CONVERGENCE_MSG)\n",
            "/usr/local/lib/python3.7/dist-packages/sklearn/linear_model/_logistic.py:940: ConvergenceWarning: lbfgs failed to converge (status=1):\n",
            "STOP: TOTAL NO. of ITERATIONS REACHED LIMIT.\n",
            "\n",
            "Increase the number of iterations (max_iter) or scale the data as shown in:\n",
            "    https://scikit-learn.org/stable/modules/preprocessing.html\n",
            "Please also refer to the documentation for alternative solver options:\n",
            "    https://scikit-learn.org/stable/modules/linear_model.html#logistic-regression\n",
            "  extra_warning_msg=_LOGISTIC_SOLVER_CONVERGENCE_MSG)\n",
            "/usr/local/lib/python3.7/dist-packages/sklearn/linear_model/_logistic.py:940: ConvergenceWarning: lbfgs failed to converge (status=1):\n",
            "STOP: TOTAL NO. of ITERATIONS REACHED LIMIT.\n",
            "\n",
            "Increase the number of iterations (max_iter) or scale the data as shown in:\n",
            "    https://scikit-learn.org/stable/modules/preprocessing.html\n",
            "Please also refer to the documentation for alternative solver options:\n",
            "    https://scikit-learn.org/stable/modules/linear_model.html#logistic-regression\n",
            "  extra_warning_msg=_LOGISTIC_SOLVER_CONVERGENCE_MSG)\n",
            "/usr/local/lib/python3.7/dist-packages/sklearn/model_selection/_validation.py:536: FitFailedWarning: Estimator fit failed. The score on this train-test partition for these parameters will be set to nan. Details: \n",
            "ValueError: Solver lbfgs supports only 'l2' or 'none' penalties, got l1 penalty.\n",
            "\n",
            "  FitFailedWarning)\n",
            "/usr/local/lib/python3.7/dist-packages/sklearn/linear_model/_logistic.py:940: ConvergenceWarning: lbfgs failed to converge (status=1):\n",
            "STOP: TOTAL NO. of ITERATIONS REACHED LIMIT.\n",
            "\n",
            "Increase the number of iterations (max_iter) or scale the data as shown in:\n",
            "    https://scikit-learn.org/stable/modules/preprocessing.html\n",
            "Please also refer to the documentation for alternative solver options:\n",
            "    https://scikit-learn.org/stable/modules/linear_model.html#logistic-regression\n",
            "  extra_warning_msg=_LOGISTIC_SOLVER_CONVERGENCE_MSG)\n",
            "/usr/local/lib/python3.7/dist-packages/sklearn/linear_model/_logistic.py:940: ConvergenceWarning: lbfgs failed to converge (status=1):\n",
            "STOP: TOTAL NO. of ITERATIONS REACHED LIMIT.\n",
            "\n",
            "Increase the number of iterations (max_iter) or scale the data as shown in:\n",
            "    https://scikit-learn.org/stable/modules/preprocessing.html\n",
            "Please also refer to the documentation for alternative solver options:\n",
            "    https://scikit-learn.org/stable/modules/linear_model.html#logistic-regression\n",
            "  extra_warning_msg=_LOGISTIC_SOLVER_CONVERGENCE_MSG)\n",
            "/usr/local/lib/python3.7/dist-packages/sklearn/linear_model/_logistic.py:940: ConvergenceWarning: lbfgs failed to converge (status=1):\n",
            "STOP: TOTAL NO. of ITERATIONS REACHED LIMIT.\n",
            "\n",
            "Increase the number of iterations (max_iter) or scale the data as shown in:\n",
            "    https://scikit-learn.org/stable/modules/preprocessing.html\n",
            "Please also refer to the documentation for alternative solver options:\n",
            "    https://scikit-learn.org/stable/modules/linear_model.html#logistic-regression\n",
            "  extra_warning_msg=_LOGISTIC_SOLVER_CONVERGENCE_MSG)\n",
            "/usr/local/lib/python3.7/dist-packages/sklearn/linear_model/_logistic.py:940: ConvergenceWarning: lbfgs failed to converge (status=1):\n",
            "STOP: TOTAL NO. of ITERATIONS REACHED LIMIT.\n",
            "\n",
            "Increase the number of iterations (max_iter) or scale the data as shown in:\n",
            "    https://scikit-learn.org/stable/modules/preprocessing.html\n",
            "Please also refer to the documentation for alternative solver options:\n",
            "    https://scikit-learn.org/stable/modules/linear_model.html#logistic-regression\n",
            "  extra_warning_msg=_LOGISTIC_SOLVER_CONVERGENCE_MSG)\n",
            "/usr/local/lib/python3.7/dist-packages/sklearn/linear_model/_logistic.py:940: ConvergenceWarning: lbfgs failed to converge (status=1):\n",
            "STOP: TOTAL NO. of ITERATIONS REACHED LIMIT.\n",
            "\n",
            "Increase the number of iterations (max_iter) or scale the data as shown in:\n",
            "    https://scikit-learn.org/stable/modules/preprocessing.html\n",
            "Please also refer to the documentation for alternative solver options:\n",
            "    https://scikit-learn.org/stable/modules/linear_model.html#logistic-regression\n",
            "  extra_warning_msg=_LOGISTIC_SOLVER_CONVERGENCE_MSG)\n",
            "/usr/local/lib/python3.7/dist-packages/sklearn/model_selection/_validation.py:536: FitFailedWarning: Estimator fit failed. The score on this train-test partition for these parameters will be set to nan. Details: \n",
            "ValueError: Solver lbfgs supports only 'l2' or 'none' penalties, got l1 penalty.\n",
            "\n",
            "  FitFailedWarning)\n",
            "/usr/local/lib/python3.7/dist-packages/sklearn/linear_model/_logistic.py:940: ConvergenceWarning: lbfgs failed to converge (status=1):\n",
            "STOP: TOTAL NO. of ITERATIONS REACHED LIMIT.\n",
            "\n",
            "Increase the number of iterations (max_iter) or scale the data as shown in:\n",
            "    https://scikit-learn.org/stable/modules/preprocessing.html\n",
            "Please also refer to the documentation for alternative solver options:\n",
            "    https://scikit-learn.org/stable/modules/linear_model.html#logistic-regression\n",
            "  extra_warning_msg=_LOGISTIC_SOLVER_CONVERGENCE_MSG)\n",
            "/usr/local/lib/python3.7/dist-packages/sklearn/linear_model/_logistic.py:940: ConvergenceWarning: lbfgs failed to converge (status=1):\n",
            "STOP: TOTAL NO. of ITERATIONS REACHED LIMIT.\n",
            "\n",
            "Increase the number of iterations (max_iter) or scale the data as shown in:\n",
            "    https://scikit-learn.org/stable/modules/preprocessing.html\n",
            "Please also refer to the documentation for alternative solver options:\n",
            "    https://scikit-learn.org/stable/modules/linear_model.html#logistic-regression\n",
            "  extra_warning_msg=_LOGISTIC_SOLVER_CONVERGENCE_MSG)\n",
            "/usr/local/lib/python3.7/dist-packages/sklearn/linear_model/_logistic.py:940: ConvergenceWarning: lbfgs failed to converge (status=1):\n",
            "STOP: TOTAL NO. of ITERATIONS REACHED LIMIT.\n",
            "\n",
            "Increase the number of iterations (max_iter) or scale the data as shown in:\n",
            "    https://scikit-learn.org/stable/modules/preprocessing.html\n",
            "Please also refer to the documentation for alternative solver options:\n",
            "    https://scikit-learn.org/stable/modules/linear_model.html#logistic-regression\n",
            "  extra_warning_msg=_LOGISTIC_SOLVER_CONVERGENCE_MSG)\n",
            "/usr/local/lib/python3.7/dist-packages/sklearn/linear_model/_logistic.py:940: ConvergenceWarning: lbfgs failed to converge (status=1):\n",
            "STOP: TOTAL NO. of ITERATIONS REACHED LIMIT.\n",
            "\n",
            "Increase the number of iterations (max_iter) or scale the data as shown in:\n",
            "    https://scikit-learn.org/stable/modules/preprocessing.html\n",
            "Please also refer to the documentation for alternative solver options:\n",
            "    https://scikit-learn.org/stable/modules/linear_model.html#logistic-regression\n",
            "  extra_warning_msg=_LOGISTIC_SOLVER_CONVERGENCE_MSG)\n",
            "/usr/local/lib/python3.7/dist-packages/sklearn/linear_model/_logistic.py:940: ConvergenceWarning: lbfgs failed to converge (status=1):\n",
            "STOP: TOTAL NO. of ITERATIONS REACHED LIMIT.\n",
            "\n",
            "Increase the number of iterations (max_iter) or scale the data as shown in:\n",
            "    https://scikit-learn.org/stable/modules/preprocessing.html\n",
            "Please also refer to the documentation for alternative solver options:\n",
            "    https://scikit-learn.org/stable/modules/linear_model.html#logistic-regression\n",
            "  extra_warning_msg=_LOGISTIC_SOLVER_CONVERGENCE_MSG)\n",
            "/usr/local/lib/python3.7/dist-packages/sklearn/model_selection/_validation.py:536: FitFailedWarning: Estimator fit failed. The score on this train-test partition for these parameters will be set to nan. Details: \n",
            "ValueError: Solver lbfgs supports only 'l2' or 'none' penalties, got l1 penalty.\n",
            "\n",
            "  FitFailedWarning)\n",
            "/usr/local/lib/python3.7/dist-packages/sklearn/linear_model/_logistic.py:940: ConvergenceWarning: lbfgs failed to converge (status=1):\n",
            "STOP: TOTAL NO. of ITERATIONS REACHED LIMIT.\n",
            "\n",
            "Increase the number of iterations (max_iter) or scale the data as shown in:\n",
            "    https://scikit-learn.org/stable/modules/preprocessing.html\n",
            "Please also refer to the documentation for alternative solver options:\n",
            "    https://scikit-learn.org/stable/modules/linear_model.html#logistic-regression\n",
            "  extra_warning_msg=_LOGISTIC_SOLVER_CONVERGENCE_MSG)\n",
            "/usr/local/lib/python3.7/dist-packages/sklearn/linear_model/_logistic.py:940: ConvergenceWarning: lbfgs failed to converge (status=1):\n",
            "STOP: TOTAL NO. of ITERATIONS REACHED LIMIT.\n",
            "\n",
            "Increase the number of iterations (max_iter) or scale the data as shown in:\n",
            "    https://scikit-learn.org/stable/modules/preprocessing.html\n",
            "Please also refer to the documentation for alternative solver options:\n",
            "    https://scikit-learn.org/stable/modules/linear_model.html#logistic-regression\n",
            "  extra_warning_msg=_LOGISTIC_SOLVER_CONVERGENCE_MSG)\n",
            "/usr/local/lib/python3.7/dist-packages/sklearn/linear_model/_logistic.py:940: ConvergenceWarning: lbfgs failed to converge (status=1):\n",
            "STOP: TOTAL NO. of ITERATIONS REACHED LIMIT.\n",
            "\n",
            "Increase the number of iterations (max_iter) or scale the data as shown in:\n",
            "    https://scikit-learn.org/stable/modules/preprocessing.html\n",
            "Please also refer to the documentation for alternative solver options:\n",
            "    https://scikit-learn.org/stable/modules/linear_model.html#logistic-regression\n",
            "  extra_warning_msg=_LOGISTIC_SOLVER_CONVERGENCE_MSG)\n",
            "/usr/local/lib/python3.7/dist-packages/sklearn/linear_model/_logistic.py:940: ConvergenceWarning: lbfgs failed to converge (status=1):\n",
            "STOP: TOTAL NO. of ITERATIONS REACHED LIMIT.\n",
            "\n",
            "Increase the number of iterations (max_iter) or scale the data as shown in:\n",
            "    https://scikit-learn.org/stable/modules/preprocessing.html\n",
            "Please also refer to the documentation for alternative solver options:\n",
            "    https://scikit-learn.org/stable/modules/linear_model.html#logistic-regression\n",
            "  extra_warning_msg=_LOGISTIC_SOLVER_CONVERGENCE_MSG)\n",
            "/usr/local/lib/python3.7/dist-packages/sklearn/linear_model/_logistic.py:940: ConvergenceWarning: lbfgs failed to converge (status=1):\n",
            "STOP: TOTAL NO. of ITERATIONS REACHED LIMIT.\n",
            "\n",
            "Increase the number of iterations (max_iter) or scale the data as shown in:\n",
            "    https://scikit-learn.org/stable/modules/preprocessing.html\n",
            "Please also refer to the documentation for alternative solver options:\n",
            "    https://scikit-learn.org/stable/modules/linear_model.html#logistic-regression\n",
            "  extra_warning_msg=_LOGISTIC_SOLVER_CONVERGENCE_MSG)\n",
            "/usr/local/lib/python3.7/dist-packages/sklearn/model_selection/_validation.py:536: FitFailedWarning: Estimator fit failed. The score on this train-test partition for these parameters will be set to nan. Details: \n",
            "ValueError: Solver lbfgs supports only 'l2' or 'none' penalties, got l1 penalty.\n",
            "\n",
            "  FitFailedWarning)\n",
            "/usr/local/lib/python3.7/dist-packages/sklearn/linear_model/_logistic.py:940: ConvergenceWarning: lbfgs failed to converge (status=1):\n",
            "STOP: TOTAL NO. of ITERATIONS REACHED LIMIT.\n",
            "\n",
            "Increase the number of iterations (max_iter) or scale the data as shown in:\n",
            "    https://scikit-learn.org/stable/modules/preprocessing.html\n",
            "Please also refer to the documentation for alternative solver options:\n",
            "    https://scikit-learn.org/stable/modules/linear_model.html#logistic-regression\n",
            "  extra_warning_msg=_LOGISTIC_SOLVER_CONVERGENCE_MSG)\n",
            "/usr/local/lib/python3.7/dist-packages/sklearn/linear_model/_logistic.py:940: ConvergenceWarning: lbfgs failed to converge (status=1):\n",
            "STOP: TOTAL NO. of ITERATIONS REACHED LIMIT.\n",
            "\n",
            "Increase the number of iterations (max_iter) or scale the data as shown in:\n",
            "    https://scikit-learn.org/stable/modules/preprocessing.html\n",
            "Please also refer to the documentation for alternative solver options:\n",
            "    https://scikit-learn.org/stable/modules/linear_model.html#logistic-regression\n",
            "  extra_warning_msg=_LOGISTIC_SOLVER_CONVERGENCE_MSG)\n",
            "/usr/local/lib/python3.7/dist-packages/sklearn/linear_model/_logistic.py:940: ConvergenceWarning: lbfgs failed to converge (status=1):\n",
            "STOP: TOTAL NO. of ITERATIONS REACHED LIMIT.\n",
            "\n",
            "Increase the number of iterations (max_iter) or scale the data as shown in:\n",
            "    https://scikit-learn.org/stable/modules/preprocessing.html\n",
            "Please also refer to the documentation for alternative solver options:\n",
            "    https://scikit-learn.org/stable/modules/linear_model.html#logistic-regression\n",
            "  extra_warning_msg=_LOGISTIC_SOLVER_CONVERGENCE_MSG)\n",
            "/usr/local/lib/python3.7/dist-packages/sklearn/linear_model/_logistic.py:940: ConvergenceWarning: lbfgs failed to converge (status=1):\n",
            "STOP: TOTAL NO. of ITERATIONS REACHED LIMIT.\n",
            "\n",
            "Increase the number of iterations (max_iter) or scale the data as shown in:\n",
            "    https://scikit-learn.org/stable/modules/preprocessing.html\n",
            "Please also refer to the documentation for alternative solver options:\n",
            "    https://scikit-learn.org/stable/modules/linear_model.html#logistic-regression\n",
            "  extra_warning_msg=_LOGISTIC_SOLVER_CONVERGENCE_MSG)\n",
            "/usr/local/lib/python3.7/dist-packages/sklearn/linear_model/_logistic.py:940: ConvergenceWarning: lbfgs failed to converge (status=1):\n",
            "STOP: TOTAL NO. of ITERATIONS REACHED LIMIT.\n",
            "\n",
            "Increase the number of iterations (max_iter) or scale the data as shown in:\n",
            "    https://scikit-learn.org/stable/modules/preprocessing.html\n",
            "Please also refer to the documentation for alternative solver options:\n",
            "    https://scikit-learn.org/stable/modules/linear_model.html#logistic-regression\n",
            "  extra_warning_msg=_LOGISTIC_SOLVER_CONVERGENCE_MSG)\n",
            "/usr/local/lib/python3.7/dist-packages/sklearn/linear_model/_logistic.py:940: ConvergenceWarning: lbfgs failed to converge (status=1):\n",
            "STOP: TOTAL NO. of ITERATIONS REACHED LIMIT.\n",
            "\n",
            "Increase the number of iterations (max_iter) or scale the data as shown in:\n",
            "    https://scikit-learn.org/stable/modules/preprocessing.html\n",
            "Please also refer to the documentation for alternative solver options:\n",
            "    https://scikit-learn.org/stable/modules/linear_model.html#logistic-regression\n",
            "  extra_warning_msg=_LOGISTIC_SOLVER_CONVERGENCE_MSG)\n"
          ]
        },
        {
          "output_type": "execute_result",
          "data": {
            "text/plain": [
              "GridSearchCV(cv=None, error_score=nan,\n",
              "             estimator=LogisticRegression(C=1.0, class_weight=None, dual=False,\n",
              "                                          fit_intercept=True,\n",
              "                                          intercept_scaling=1, l1_ratio=None,\n",
              "                                          max_iter=100, multi_class='auto',\n",
              "                                          n_jobs=None, penalty='l2',\n",
              "                                          random_state=None, solver='lbfgs',\n",
              "                                          tol=0.0001, verbose=0,\n",
              "                                          warm_start=False),\n",
              "             iid='deprecated', n_jobs=None,\n",
              "             param_grid={'C': array([1.e-03, 1.e-02, 1.e-01, 1.e+00, 1.e+01, 1.e+02, 1.e+03]),\n",
              "                         'penalty': ['l1', 'l2']},\n",
              "             pre_dispatch='2*n_jobs', refit=True, return_train_score=False,\n",
              "             scoring=None, verbose=0)"
            ]
          },
          "metadata": {},
          "execution_count": 59
        }
      ]
    },
    {
      "cell_type": "code",
      "metadata": {
        "colab": {
          "base_uri": "https://localhost:8080/"
        },
        "id": "m4e7hVNFyGv6",
        "outputId": "e85a64d2-3377-4b85-874c-406330f0d455"
      },
      "source": [
        "print('\\n Best hyperparameters:')\n",
        "print(logreg_cv.best_params_)"
      ],
      "execution_count": null,
      "outputs": [
        {
          "output_type": "stream",
          "name": "stdout",
          "text": [
            "\n",
            " Best hyperparameters:\n",
            "{'C': 0.01, 'penalty': 'l2'}\n"
          ]
        }
      ]
    },
    {
      "cell_type": "code",
      "metadata": {
        "id": "OyOZ-iDXyHBb"
      },
      "source": [
        ""
      ],
      "execution_count": null,
      "outputs": []
    },
    {
      "cell_type": "markdown",
      "metadata": {
        "id": "E6WlKHfW5vTO"
      },
      "source": [
        "**Model training**"
      ]
    },
    {
      "cell_type": "code",
      "metadata": {
        "id": "xUEQeyo6lk5n",
        "colab": {
          "base_uri": "https://localhost:8080/"
        },
        "outputId": "2fcf7ac8-7cdb-47ef-e100-41fb9bbe6b84"
      },
      "source": [
        "\n",
        "logreg = LogisticRegression(multi_class='multinomial',C=0.01,penalty='l2')\n",
        "logreg.fit(X_for_training, y_train)\n"
      ],
      "execution_count": null,
      "outputs": [
        {
          "output_type": "stream",
          "name": "stderr",
          "text": [
            "/usr/local/lib/python3.7/dist-packages/sklearn/linear_model/_logistic.py:940: ConvergenceWarning: lbfgs failed to converge (status=1):\n",
            "STOP: TOTAL NO. of ITERATIONS REACHED LIMIT.\n",
            "\n",
            "Increase the number of iterations (max_iter) or scale the data as shown in:\n",
            "    https://scikit-learn.org/stable/modules/preprocessing.html\n",
            "Please also refer to the documentation for alternative solver options:\n",
            "    https://scikit-learn.org/stable/modules/linear_model.html#logistic-regression\n",
            "  extra_warning_msg=_LOGISTIC_SOLVER_CONVERGENCE_MSG)\n"
          ]
        },
        {
          "output_type": "execute_result",
          "data": {
            "text/plain": [
              "LogisticRegression(C=0.01, class_weight=None, dual=False, fit_intercept=True,\n",
              "                   intercept_scaling=1, l1_ratio=None, max_iter=100,\n",
              "                   multi_class='multinomial', n_jobs=None, penalty='l2',\n",
              "                   random_state=None, solver='lbfgs', tol=0.0001, verbose=0,\n",
              "                   warm_start=False)"
            ]
          },
          "metadata": {},
          "execution_count": 61
        }
      ]
    },
    {
      "cell_type": "code",
      "metadata": {
        "id": "5JNB9DuE7-lz"
      },
      "source": [
        "#Now predict using the trained RF model. \n",
        "prediction_logreg = logreg.predict(X_test_features)\n",
        "#Inverse le transform to get original label back. \n",
        "prediction_logreg = le.inverse_transform(prediction_logreg)\n"
      ],
      "execution_count": null,
      "outputs": []
    },
    {
      "cell_type": "code",
      "metadata": {
        "colab": {
          "base_uri": "https://localhost:8080/"
        },
        "id": "6YxtG-gI8dtP",
        "outputId": "63d771e2-95a4-4dfa-d692-4448f16f967c"
      },
      "source": [
        "#Print overall accuracy\n",
        "from sklearn import metrics\n",
        "print (\"Accuracy = \", metrics.accuracy_score(test_labels, prediction_logreg))"
      ],
      "execution_count": null,
      "outputs": [
        {
          "output_type": "stream",
          "name": "stdout",
          "text": [
            "Accuracy =  0.8958333333333334\n"
          ]
        }
      ]
    },
    {
      "cell_type": "code",
      "metadata": {
        "colab": {
          "base_uri": "https://localhost:8080/",
          "height": 303
        },
        "id": "vdJvsnr88i35",
        "outputId": "d936f957-6146-4d80-ac96-bd1cfd463006"
      },
      "source": [
        "#Check results on a few select images\n",
        "n=np.random.randint(0, x_test.shape[0])\n",
        "img = x_test[n]\n",
        "plt.imshow(img)\n",
        "input_img = np.expand_dims(img, axis=0) #Expand dims so the input is (num images, x, y, c)\n",
        "input_img_feature=VGG_model.predict(input_img)\n",
        "input_img_features=input_img_feature.reshape(input_img_feature.shape[0], -1)\n",
        "prediction_logreg = logreg.predict(input_img_features)[0] \n",
        "prediction_logreg = le.inverse_transform([prediction_logreg])  #Reverse the label encoder to original name\n",
        "print(\"The prediction for this image is: \", prediction_logreg)\n",
        "print(\"The actual label for this image is: \", test_labels[n])"
      ],
      "execution_count": null,
      "outputs": [
        {
          "output_type": "stream",
          "name": "stdout",
          "text": [
            "The prediction for this image is:  ['plastique1L']\n",
            "The actual label for this image is:  plastique1L\n"
          ]
        },
        {
          "output_type": "display_data",
          "data": {
            "image/png": "[encoded data removed]",
            "text/plain": [
              "<Figure size 432x288 with 1 Axes>"
            ]
          },
          "metadata": {
            "needs_background": "light"
          }
        }
      ]
    },
    {
      "cell_type": "code",
      "metadata": {
        "id": "h8OwHG1R9Rzr",
        "colab": {
          "base_uri": "https://localhost:8080/"
        },
        "outputId": "5e95f058-d46c-4dfa-f3d4-3b20453c5c50"
      },
      "source": [
        "pip install matplotlib"
      ],
      "execution_count": null,
      "outputs": [
        {
          "output_type": "stream",
          "name": "stdout",
          "text": [
            "Requirement already satisfied: matplotlib in /usr/local/lib/python3.7/dist-packages (3.2.2)\n",
            "Requirement already satisfied: pyparsing!=2.0.4,!=2.1.2,!=2.1.6,>=2.0.1 in /usr/local/lib/python3.7/dist-packages (from matplotlib) (2.4.7)\n",
            "Requirement already satisfied: kiwisolver>=1.0.1 in /usr/local/lib/python3.7/dist-packages (from matplotlib) (1.3.1)\n",
            "Requirement already satisfied: numpy>=1.11 in /usr/local/lib/python3.7/dist-packages (from matplotlib) (1.19.5)\n",
            "Requirement already satisfied: cycler>=0.10 in /usr/local/lib/python3.7/dist-packages (from matplotlib) (0.10.0)\n",
            "Requirement already satisfied: python-dateutil>=2.1 in /usr/local/lib/python3.7/dist-packages (from matplotlib) (2.8.2)\n",
            "Requirement already satisfied: six in /usr/local/lib/python3.7/dist-packages (from cycler>=0.10->matplotlib) (1.15.0)\n"
          ]
        }
      ]
    },
    {
      "cell_type": "markdown",
      "metadata": {
        "id": "XkVUTrV8zqAv"
      },
      "source": [
        "**Models evaluation**"
      ]
    },
    {
      "cell_type": "code",
      "metadata": {
        "colab": {
          "base_uri": "https://localhost:8080/",
          "height": 441
        },
        "id": "sbw1Q4DrzuKv",
        "outputId": "aa18f409-f599-4d1b-b061-725f4150d636"
      },
      "source": [
        "import matplotlib\n",
        "import matplotlib.pyplot as plt\n",
        "models = ['Random Forest','Logistic regresion','XGBoost']\n",
        "accuracy = [0.9,0.89,0.9]\n",
        "\n",
        "x = np.arange(len(models))  \n",
        "width = 0.35  \n",
        "fig, ax = plt.subplots(figsize=(8,6))\n",
        "\n",
        "rects1 = ax.bar(x - width/2, accuracy, width, label='Accuracy')\n",
        "ax.set_xlabel('Models')\n",
        "ax.set_title('Models evaluation')\n",
        "ax.set_xticks(x)\n",
        "ax.set_xticklabels(models)\n",
        "ax.legend()\n",
        "#ax.bar_label(rects1, padding=3)\n",
        "ax.legend(loc='lower left')\n",
        "\n",
        "fig.tight_layout()\n",
        "\n",
        "plt.show()"
      ],
      "execution_count": null,
      "outputs": [
        {
          "output_type": "display_data",
          "data": {
            "image/png": "[encoded data removed]",
            "text/plain": [
              "<Figure size 576x432 with 1 Axes>"
            ]
          },
          "metadata": {
            "needs_background": "light"
          }
        }
      ]
    }
  ]
}